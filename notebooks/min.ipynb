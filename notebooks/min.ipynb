{
 "cells": [
  {
   "cell_type": "markdown",
   "metadata": {},
   "source": [
    "# Minimização Unidimensional\n",
    "    \n",
    "   min(fx)\n",
    "   \n",
    "   calcular minimo de uma função utilizando um guess\n",
    "   \n",
    "  \\-> guess\n",
    "  \n",
    "   - 1º pesquisa para enquadrar num intervalo\n",
    "       - (esq. ou dir.)\n",
    "       - passo constante ou variavel\n",
    "   - 2º redução intervalar\n",
    "       - terços\n",
    "       - secção aurea\n",
    "   - 3º ajuste da quádrica"
   ]
  },
  {
   "cell_type": "markdown",
   "metadata": {},
   "source": [
    "# Triseção\n",
    "    \n",
    "Com um intervalo temos de criar 2 pontos nesse intervalo para  \n",
    "termos 3 novos intervalos  \n",
    "1 deles podemos descartar vendo a configuração dos pontos\n",
    "    \n",
    "```python\n",
    "razao = 3.0\n",
    "while abs(b-a) > prec:\n",
    "    c = a + (b-a)/razao\n",
    "    d = b - (b-a)/razao\n",
    "    if f(c) < f(d):\n",
    "        b = d\n",
    "    else:\n",
    "        a = c\n",
    "```"
   ]
  },
  {
   "cell_type": "markdown",
   "metadata": {},
   "source": [
    "# Secção Aurea\n",
    "\n",
    "\n",
    "```python\n",
    "B = proporção aurea = (sqrt(5) - 1) / 2\n",
    "    \n",
    "igual a triseção\n",
    "    \n",
    "c = a + (b-a) * B\n",
    "d = b - (b-a) * B\n",
    "fc = f(c)\n",
    "fd = f(d)\n",
    "while abs(b-a) > prec:\n",
    "    if fc < fd:\n",
    "        b = d\n",
    "        d = c\n",
    "        fd = fc\n",
    "        c <- novo --- c = a + B * (b-a)\n",
    "        fc = f(c)\n",
    "    else:\n",
    "        a = c\n",
    "        c = d\n",
    "        fc = fd\n",
    "        d <- novo --- d = b - B * (b-a)\n",
    "        fd = f(d)\n",
    "```"
   ]
  },
  {
   "cell_type": "markdown",
   "metadata": {},
   "source": [
    "# Ajuste da Quádrica\n",
    "        \n",
    "Não é um método iterativo, basta aplicar uma fórmula:\n",
    "    \n",
    "\n",
    "$$x=x_2-\\frac{h.(f(x_1) - f(x_3))}{2.(f(x_i)-2.f(x_2)+f(x_3))}$$\n",
    "     \n",
    "onde:\n",
    "\n",
    "$x_1$ é o limite esquerdo do intervalo calculado  \n",
    "$x_3$ é o limite direito do intervalo calculado  \n",
    "$x_2$ é o ponto médio\n",
    "\n",
    "\n",
    "$h = x_2 - x_1$  ou  \n",
    "$h = x3 - x2$  ou  \n",
    "$h = \\frac{x3 - x1}{2}$"
   ]
  },
  {
   "cell_type": "markdown",
   "metadata": {},
   "source": [
    "## Exemplo da aula\n",
    "    \n",
    "Minimizar a função $sin^2(x)$\n",
    "\n",
    "avaliar o minimo de 2 a 4"
   ]
  },
  {
   "cell_type": "code",
   "execution_count": 1,
   "metadata": {},
   "outputs": [],
   "source": [
    "from math import sin, sqrt, pi\n",
    "\n",
    "def func(x):\n",
    "    return sin(x) ** 2"
   ]
  },
  {
   "cell_type": "code",
   "execution_count": 2,
   "metadata": {},
   "outputs": [],
   "source": [
    "def intervalSearch(x0, x1, f, h=0.5):\n",
    "    # passo constante\n",
    "\n",
    "    a = x0\n",
    "    b = a + h\n",
    "\n",
    "    if f(b) < f(a):\n",
    "        a += h\n",
    "        b += h\n",
    "        while True:\n",
    "            if f(b) < f(a):\n",
    "                a += h\n",
    "                b += h\n",
    "            else:\n",
    "                break\n",
    "\n",
    "    return [a, b]"
   ]
  },
  {
   "cell_type": "code",
   "execution_count": 3,
   "metadata": {},
   "outputs": [],
   "source": [
    "def aureaSec(rangeVal, f, prec=0.1):\n",
    "    # B = proporção\n",
    "    B = (sqrt(5) - 1) / 2\n",
    "\n",
    "    a = rangeVal[0]\n",
    "    b = rangeVal[1]\n",
    "\n",
    "    c = a + (b - a) * B\n",
    "    d = b - (b - a) * B\n",
    "\n",
    "    fc = f(c)\n",
    "    fd = f(d)\n",
    "\n",
    "    while abs(b - a) > prec:\n",
    "        if fc < fd:\n",
    "            b = d\n",
    "            d = c\n",
    "            fd = fc\n",
    "            c = a + B * (b - a)\n",
    "            fc = f(c)\n",
    "        else:\n",
    "            a = c\n",
    "            c = d\n",
    "            fc = fd\n",
    "            d = b - B * (b - a)\n",
    "            fd = f(d)\n",
    "\n",
    "    return [a, b]"
   ]
  },
  {
   "cell_type": "code",
   "execution_count": 4,
   "metadata": {},
   "outputs": [],
   "source": [
    "def quadAdjust(points, f):\n",
    "    x1 = points[0]\n",
    "    x3 = points[1]\n",
    "    x2 = (x1 + x3) / 2.0\n",
    "\n",
    "    h = x2 - x1\n",
    "\n",
    "    return x2 - (h * (f(x1) - f(x3))) / (2 * (f(x1) - 2 * f(x2) + f(x3)))"
   ]
  },
  {
   "cell_type": "code",
   "execution_count": null,
   "metadata": {},
   "outputs": [],
   "source": [
    "interval = intervalSearch(2, 4, func, h=0.0000000001)\n",
    "print(\"interval after search:\", interval)\n",
    "interval = aureaSec(interval, func, prec=0.0000000000001)\n",
    "print(\"interval after aurea section:\", interval)\n",
    "minC = quadAdjust(interval, func)\n",
    "print(\"min calc:\", minC)\n",
    "print(\"f(min):\", func(minC))\n",
    "print(\"rel. error:\", ((minC - pi) / pi) * 100.0, \"%\")"
   ]
  }
 ],
 "metadata": {
  "kernelspec": {
   "display_name": "Python 3",
   "language": "python",
   "name": "python3"
  },
  "language_info": {
   "codemirror_mode": {
    "name": "ipython",
    "version": 3
   },
   "file_extension": ".py",
   "mimetype": "text/x-python",
   "name": "python",
   "nbconvert_exporter": "python",
   "pygments_lexer": "ipython3",
   "version": "3.7.4"
  }
 },
 "nbformat": 4,
 "nbformat_minor": 2
}
