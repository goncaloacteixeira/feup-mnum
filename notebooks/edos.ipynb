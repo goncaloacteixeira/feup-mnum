{
 "cells": [
  {
   "cell_type": "markdown",
   "metadata": {},
   "source": [
    "# Exemplo do Livro\n",
    "\n",
    "## Resolver uma equação diferencial ordinaria (EDO)\n",
    "\n",
    "$$y'=x-2$$\n",
    "\n",
    "sendo $\\frac{x^2}{2} - 2x +3$ a solução particular da eq.\n"
   ]
  },
  {
   "cell_type": "markdown",
   "metadata": {},
   "source": [
    "### Método de Euler\n",
    "\n",
    "Método iterativo  \n",
    "Calcular o novo y com base no incremento de x e do valor da função"
   ]
  },
  {
   "cell_type": "markdown",
   "metadata": {},
   "source": [
    "### Quociente de Convergência\n",
    "\n",
    "             QC\n",
    "        xn      xn+1\n",
    "    \n",
    "    P   com delta(xn)                         \n",
    "    P'  com 2 passos delta(xn)/2\n",
    "    P'' com 4 passos delta(xn)/4\n",
    "    \n",
    "    QC = (P' - P) / (P'' - P')\n",
    "        se QC ~ 2\n",
    "        eps'' ~ (P'' - P')/(2^n - 1)"
   ]
  },
  {
   "cell_type": "code",
   "execution_count": 1,
   "metadata": {},
   "outputs": [],
   "source": [
    "def func(x):\n",
    "    return x - 2\n",
    "\n",
    "def batota(x):\n",
    "    return x**2/2.0 - 2.0*x + 3"
   ]
  },
  {
   "cell_type": "code",
   "execution_count": 2,
   "metadata": {},
   "outputs": [],
   "source": [
    "from math import ceil, floor\n",
    "\n",
    "def normal_round(n, prec = 1):\n",
    "    if n - floor(n) < prec:\n",
    "        return floor(n)\n",
    "    return n\n",
    "\n",
    "def euler(deltaxn, f, N=5):\n",
    "    x = 0\n",
    "    y = 3\n",
    "    yBat = batota(x)\n",
    "    res = []\n",
    "    for i in range(N-1):\n",
    "        if normal_round(x, prec=deltaxn) % 1 == 0:\n",
    "            # print(\"x:\", x)\n",
    "            # print(\"y(batota):\", yBat)\n",
    "            # print(\"y(calcul):\", y)\n",
    "            # print()\n",
    "            res.append(y)\n",
    "        x += deltaxn\n",
    "        y += deltaxn * f(x)\n",
    "        yBat = batota(x)\n",
    "    return res"
   ]
  },
  {
   "cell_type": "code",
   "execution_count": 3,
   "metadata": {},
   "outputs": [
    {
     "data": {
      "text/plain": [
       "<Figure size 640x480 with 1 Axes>"
      ]
     },
     "metadata": {},
     "output_type": "display_data"
    }
   ],
   "source": [
    "import matplotlib.pyplot as plt\n",
    "\n",
    "res1 = euler(0.5, func, N=20) # de 0 a 9 com passo 0.5\n",
    "res2 = euler(0.25, func, N=40)\n",
    "res3 = euler(0.125, func, N=80)\n",
    "res4 = euler(0.00001, func, N=1000000) # de 0 a 9 com passo 0.00001\n",
    "\n",
    "x = [i for i in range(10)]\n",
    "yr = [batota(i) for i in range(10)]\n",
    "\n",
    "plt.plot(x,yr,'black')\n",
    "plt.plot(x,res1,'b')\n",
    "plt.plot(x,res2,'g')\n",
    "plt.plot(x,res3,'r')\n",
    "plt.plot(x,res4,'yellow')\n",
    "plt.show()\n",
    "\n",
    "# Comentar as varias linhas para avaliar o melhor resultado"
   ]
  },
  {
   "cell_type": "code",
   "execution_count": 4,
   "metadata": {},
   "outputs": [
    {
     "data": {
      "text/html": [
       "<style  type=\"text/css\" >\n",
       "</style><table id=\"T_8092311c_16eb_11ea_9ac5_c49deda233f2\" ><thead>    <tr>        <th class=\"col_heading level0 col0\" >x</th>        <th class=\"col_heading level0 col1\" >yr</th>        <th class=\"col_heading level0 col2\" >y1 (h = 0.5)</th>        <th class=\"col_heading level0 col3\" >y2 (h = 0.25)</th>        <th class=\"col_heading level0 col4\" >y3 (h = 0.125)</th>        <th class=\"col_heading level0 col5\" >y4 (h = 0.00001)</th>    </tr></thead><tbody>\n",
       "                <tr>\n",
       "                                <td id=\"T_8092311c_16eb_11ea_9ac5_c49deda233f2row0_col0\" class=\"data row0 col0\" >0</td>\n",
       "                        <td id=\"T_8092311c_16eb_11ea_9ac5_c49deda233f2row0_col1\" class=\"data row0 col1\" >3</td>\n",
       "                        <td id=\"T_8092311c_16eb_11ea_9ac5_c49deda233f2row0_col2\" class=\"data row0 col2\" >3</td>\n",
       "                        <td id=\"T_8092311c_16eb_11ea_9ac5_c49deda233f2row0_col3\" class=\"data row0 col3\" >3</td>\n",
       "                        <td id=\"T_8092311c_16eb_11ea_9ac5_c49deda233f2row0_col4\" class=\"data row0 col4\" >3</td>\n",
       "                        <td id=\"T_8092311c_16eb_11ea_9ac5_c49deda233f2row0_col5\" class=\"data row0 col5\" >3</td>\n",
       "            </tr>\n",
       "            <tr>\n",
       "                                <td id=\"T_8092311c_16eb_11ea_9ac5_c49deda233f2row1_col0\" class=\"data row1 col0\" >1</td>\n",
       "                        <td id=\"T_8092311c_16eb_11ea_9ac5_c49deda233f2row1_col1\" class=\"data row1 col1\" >1.5</td>\n",
       "                        <td id=\"T_8092311c_16eb_11ea_9ac5_c49deda233f2row1_col2\" class=\"data row1 col2\" >1.75</td>\n",
       "                        <td id=\"T_8092311c_16eb_11ea_9ac5_c49deda233f2row1_col3\" class=\"data row1 col3\" >1.625</td>\n",
       "                        <td id=\"T_8092311c_16eb_11ea_9ac5_c49deda233f2row1_col4\" class=\"data row1 col4\" >1.5625</td>\n",
       "                        <td id=\"T_8092311c_16eb_11ea_9ac5_c49deda233f2row1_col5\" class=\"data row1 col5\" >1.5</td>\n",
       "            </tr>\n",
       "            <tr>\n",
       "                                <td id=\"T_8092311c_16eb_11ea_9ac5_c49deda233f2row2_col0\" class=\"data row2 col0\" >2</td>\n",
       "                        <td id=\"T_8092311c_16eb_11ea_9ac5_c49deda233f2row2_col1\" class=\"data row2 col1\" >1</td>\n",
       "                        <td id=\"T_8092311c_16eb_11ea_9ac5_c49deda233f2row2_col2\" class=\"data row2 col2\" >1.5</td>\n",
       "                        <td id=\"T_8092311c_16eb_11ea_9ac5_c49deda233f2row2_col3\" class=\"data row2 col3\" >1.25</td>\n",
       "                        <td id=\"T_8092311c_16eb_11ea_9ac5_c49deda233f2row2_col4\" class=\"data row2 col4\" >1.125</td>\n",
       "                        <td id=\"T_8092311c_16eb_11ea_9ac5_c49deda233f2row2_col5\" class=\"data row2 col5\" >1.00001</td>\n",
       "            </tr>\n",
       "            <tr>\n",
       "                                <td id=\"T_8092311c_16eb_11ea_9ac5_c49deda233f2row3_col0\" class=\"data row3 col0\" >3</td>\n",
       "                        <td id=\"T_8092311c_16eb_11ea_9ac5_c49deda233f2row3_col1\" class=\"data row3 col1\" >1.5</td>\n",
       "                        <td id=\"T_8092311c_16eb_11ea_9ac5_c49deda233f2row3_col2\" class=\"data row3 col2\" >2.25</td>\n",
       "                        <td id=\"T_8092311c_16eb_11ea_9ac5_c49deda233f2row3_col3\" class=\"data row3 col3\" >1.875</td>\n",
       "                        <td id=\"T_8092311c_16eb_11ea_9ac5_c49deda233f2row3_col4\" class=\"data row3 col4\" >1.6875</td>\n",
       "                        <td id=\"T_8092311c_16eb_11ea_9ac5_c49deda233f2row3_col5\" class=\"data row3 col5\" >1.50002</td>\n",
       "            </tr>\n",
       "            <tr>\n",
       "                                <td id=\"T_8092311c_16eb_11ea_9ac5_c49deda233f2row4_col0\" class=\"data row4 col0\" >4</td>\n",
       "                        <td id=\"T_8092311c_16eb_11ea_9ac5_c49deda233f2row4_col1\" class=\"data row4 col1\" >3</td>\n",
       "                        <td id=\"T_8092311c_16eb_11ea_9ac5_c49deda233f2row4_col2\" class=\"data row4 col2\" >4</td>\n",
       "                        <td id=\"T_8092311c_16eb_11ea_9ac5_c49deda233f2row4_col3\" class=\"data row4 col3\" >3.5</td>\n",
       "                        <td id=\"T_8092311c_16eb_11ea_9ac5_c49deda233f2row4_col4\" class=\"data row4 col4\" >3.25</td>\n",
       "                        <td id=\"T_8092311c_16eb_11ea_9ac5_c49deda233f2row4_col5\" class=\"data row4 col5\" >3.00002</td>\n",
       "            </tr>\n",
       "            <tr>\n",
       "                                <td id=\"T_8092311c_16eb_11ea_9ac5_c49deda233f2row5_col0\" class=\"data row5 col0\" >5</td>\n",
       "                        <td id=\"T_8092311c_16eb_11ea_9ac5_c49deda233f2row5_col1\" class=\"data row5 col1\" >5.5</td>\n",
       "                        <td id=\"T_8092311c_16eb_11ea_9ac5_c49deda233f2row5_col2\" class=\"data row5 col2\" >6.75</td>\n",
       "                        <td id=\"T_8092311c_16eb_11ea_9ac5_c49deda233f2row5_col3\" class=\"data row5 col3\" >6.125</td>\n",
       "                        <td id=\"T_8092311c_16eb_11ea_9ac5_c49deda233f2row5_col4\" class=\"data row5 col4\" >5.8125</td>\n",
       "                        <td id=\"T_8092311c_16eb_11ea_9ac5_c49deda233f2row5_col5\" class=\"data row5 col5\" >5.50006</td>\n",
       "            </tr>\n",
       "            <tr>\n",
       "                                <td id=\"T_8092311c_16eb_11ea_9ac5_c49deda233f2row6_col0\" class=\"data row6 col0\" >6</td>\n",
       "                        <td id=\"T_8092311c_16eb_11ea_9ac5_c49deda233f2row6_col1\" class=\"data row6 col1\" >9</td>\n",
       "                        <td id=\"T_8092311c_16eb_11ea_9ac5_c49deda233f2row6_col2\" class=\"data row6 col2\" >10.5</td>\n",
       "                        <td id=\"T_8092311c_16eb_11ea_9ac5_c49deda233f2row6_col3\" class=\"data row6 col3\" >9.75</td>\n",
       "                        <td id=\"T_8092311c_16eb_11ea_9ac5_c49deda233f2row6_col4\" class=\"data row6 col4\" >9.375</td>\n",
       "                        <td id=\"T_8092311c_16eb_11ea_9ac5_c49deda233f2row6_col5\" class=\"data row6 col5\" >9.00007</td>\n",
       "            </tr>\n",
       "            <tr>\n",
       "                                <td id=\"T_8092311c_16eb_11ea_9ac5_c49deda233f2row7_col0\" class=\"data row7 col0\" >7</td>\n",
       "                        <td id=\"T_8092311c_16eb_11ea_9ac5_c49deda233f2row7_col1\" class=\"data row7 col1\" >13.5</td>\n",
       "                        <td id=\"T_8092311c_16eb_11ea_9ac5_c49deda233f2row7_col2\" class=\"data row7 col2\" >15.25</td>\n",
       "                        <td id=\"T_8092311c_16eb_11ea_9ac5_c49deda233f2row7_col3\" class=\"data row7 col3\" >14.375</td>\n",
       "                        <td id=\"T_8092311c_16eb_11ea_9ac5_c49deda233f2row7_col4\" class=\"data row7 col4\" >13.9375</td>\n",
       "                        <td id=\"T_8092311c_16eb_11ea_9ac5_c49deda233f2row7_col5\" class=\"data row7 col5\" >13.5001</td>\n",
       "            </tr>\n",
       "            <tr>\n",
       "                                <td id=\"T_8092311c_16eb_11ea_9ac5_c49deda233f2row8_col0\" class=\"data row8 col0\" >8</td>\n",
       "                        <td id=\"T_8092311c_16eb_11ea_9ac5_c49deda233f2row8_col1\" class=\"data row8 col1\" >19</td>\n",
       "                        <td id=\"T_8092311c_16eb_11ea_9ac5_c49deda233f2row8_col2\" class=\"data row8 col2\" >21</td>\n",
       "                        <td id=\"T_8092311c_16eb_11ea_9ac5_c49deda233f2row8_col3\" class=\"data row8 col3\" >20</td>\n",
       "                        <td id=\"T_8092311c_16eb_11ea_9ac5_c49deda233f2row8_col4\" class=\"data row8 col4\" >19.5</td>\n",
       "                        <td id=\"T_8092311c_16eb_11ea_9ac5_c49deda233f2row8_col5\" class=\"data row8 col5\" >19.0001</td>\n",
       "            </tr>\n",
       "            <tr>\n",
       "                                <td id=\"T_8092311c_16eb_11ea_9ac5_c49deda233f2row9_col0\" class=\"data row9 col0\" >9</td>\n",
       "                        <td id=\"T_8092311c_16eb_11ea_9ac5_c49deda233f2row9_col1\" class=\"data row9 col1\" >25.5</td>\n",
       "                        <td id=\"T_8092311c_16eb_11ea_9ac5_c49deda233f2row9_col2\" class=\"data row9 col2\" >27.75</td>\n",
       "                        <td id=\"T_8092311c_16eb_11ea_9ac5_c49deda233f2row9_col3\" class=\"data row9 col3\" >26.625</td>\n",
       "                        <td id=\"T_8092311c_16eb_11ea_9ac5_c49deda233f2row9_col4\" class=\"data row9 col4\" >26.0625</td>\n",
       "                        <td id=\"T_8092311c_16eb_11ea_9ac5_c49deda233f2row9_col5\" class=\"data row9 col5\" >25.5001</td>\n",
       "            </tr>\n",
       "    </tbody></table>"
      ],
      "text/plain": [
       "<pandas.io.formats.style.Styler at 0x22b82c0e1c8>"
      ]
     },
     "execution_count": 4,
     "metadata": {},
     "output_type": "execute_result"
    }
   ],
   "source": [
    "import pandas as pd\n",
    "data = {'x':[], 'yr':[], 'y1 (h = 0.5)':[],'y2 (h = 0.25)':[], 'y3 (h = 0.125)':[], 'y4 (h = 0.00001)':[]}\n",
    "for i in x:\n",
    "    data['x'].append(i)\n",
    "for i in yr:\n",
    "    data['yr'].append(i)\n",
    "\n",
    "for i in res1:\n",
    "    data['y1 (h = 0.5)'].append(i)\n",
    "for i in res2:\n",
    "    data['y2 (h = 0.25)'].append(i)\n",
    "for i in res3:\n",
    "    data['y3 (h = 0.125)'].append(i)\n",
    "\n",
    "for i in res4:\n",
    "    data['y4 (h = 0.00001)'].append(i)\n",
    "    \n",
    "df = pd.DataFrame(data)\n",
    "df.style.hide_index()"
   ]
  }
 ],
 "metadata": {
  "kernelspec": {
   "display_name": "Python 3",
   "language": "python",
   "name": "python3"
  },
  "language_info": {
   "codemirror_mode": {
    "name": "ipython",
    "version": 3
   },
   "file_extension": ".py",
   "mimetype": "text/x-python",
   "name": "python",
   "nbconvert_exporter": "python",
   "pygments_lexer": "ipython3",
   "version": "3.7.4"
  }
 },
 "nbformat": 4,
 "nbformat_minor": 2
}
