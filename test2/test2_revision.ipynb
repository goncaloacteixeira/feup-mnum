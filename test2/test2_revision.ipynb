{
 "cells": [
  {
   "cell_type": "markdown",
   "metadata": {},
   "source": [
    "# Eliminação de Gauss\n",
    "\n",
    "$$\\begin{cases}3x+6y+9z=39 \\\\ 2x+5y-2z=3 \\\\ x+3y-z=2 \\end{cases}$$"
   ]
  },
  {
   "cell_type": "markdown",
   "metadata": {},
   "source": [
    "Utilizando o máxima temos as seguintes soluções:\n",
    "\n",
    "$$\\begin{cases} x=2 \\\\ y = 1 \\\\ z = 3 \\end{cases}$$"
   ]
  },
  {
   "cell_type": "markdown",
   "metadata": {},
   "source": [
    "## Estabilidade externa\n",
    "\n",
    "Admitindo um erro de 0.5 nos coeficientes de 0.5 e nos segundos membros de 0.5\n",
    "\n",
    "a estabilidade externa pode ser calculada utilizando o maxima:"
   ]
  },
  {
   "cell_type": "markdown",
   "metadata": {},
   "source": [
    "$$\\begin{cases} \\delta_x = 4.7916667 \\\\ \\delta_y = -2.5 \\\\ \\delta_z = -0.208333 \\end{cases}$$"
   ]
  },
  {
   "cell_type": "markdown",
   "metadata": {},
   "source": [
    "## Estabilidade Interna\n",
    "\n",
    "Podemos calcular a estabilidade interna utilizando o máxima:"
   ]
  },
  {
   "cell_type": "markdown",
   "metadata": {},
   "source": [
    "$$\\begin{cases} \\delta_x = 0 \\\\ \\delta_y = 0 \\\\ \\delta_z = 0 \\end{cases}$$"
   ]
  },
  {
   "cell_type": "markdown",
   "metadata": {},
   "source": [
    "Uma vez que o calculo foi feito no maxima é normal que a estabilidade interna seja zero."
   ]
  },
  {
   "cell_type": "markdown",
   "metadata": {},
   "source": [
    "# Gauss-Jacobi\n",
    "\n",
    "Para o sistema:\n",
    "$$\\begin{cases} 7x+2y=24 \\\\ 4x+10y+z=27 \\\\ 5x-2y+8z=27 \\end{cases}$$"
   ]
  },
  {
   "cell_type": "code",
   "execution_count": 1,
   "metadata": {},
   "outputs": [
    {
     "data": {
      "text/plain": [
       "[2.6571428571428575, 0.9910714285714285, 1.9071428571428573]"
      ]
     },
     "execution_count": 1,
     "metadata": {},
     "output_type": "execute_result"
    }
   ],
   "source": [
    "def gaussJacobi(A,b,x=None,N=20):\n",
    "    if x == None:\n",
    "        x = [0 for i in range(len(A))]\n",
    "    \n",
    "    for i in range(N):\n",
    "        aux = []\n",
    "        for i in range(len(A[0])):\n",
    "            sigma = 0\n",
    "            for j in range(len(A[0])):\n",
    "                if j != i:\n",
    "                    sigma += A[i][j]*x[j]\n",
    "            sigma = (b[i]-sigma)/A[i][i]\n",
    "            aux.append(sigma)\n",
    "        if N!=0:\n",
    "            x = [k for k in aux]\n",
    "    return x\n",
    "\n",
    "A = [[7,2,0],\n",
    "     [4,10,1],\n",
    "     [5,-2,8]]\n",
    "\n",
    "b = [24,27,27]\n",
    "\n",
    "N = 0\n",
    "\n",
    "gaussJacobi(A,b,N=2)"
   ]
  },
  {
   "cell_type": "markdown",
   "metadata": {},
   "source": [
    "# Gauss-Seidel\n",
    "\n",
    "Para o sistema:\n",
    "$$\\begin{cases} 7x+2y=24 \\\\ 4x+10y+z=27 \\\\ 5x-2y+8z=27 \\end{cases}$$"
   ]
  },
  {
   "cell_type": "code",
   "execution_count": 2,
   "metadata": {},
   "outputs": [
    {
     "data": {
      "text/plain": [
       "[3.0489795918367344, 1.3239795918367347, 1.800382653061225]"
      ]
     },
     "execution_count": 2,
     "metadata": {},
     "output_type": "execute_result"
    }
   ],
   "source": [
    "def gaussSeidel(A,b,x=None,N=20):\n",
    "    if x == None:\n",
    "        x = [0 for i in range(len(A))]\n",
    "    \n",
    "    for i in range(N):\n",
    "        for j in range(len(A[0])):\n",
    "            x1 = (b[j] - (A[j][0] * x[0] + A[j][1] * x[1] + A[j][2] * x[2])) / A[j][j]\n",
    "            x[j] += x1\n",
    "    return x\n",
    "\n",
    "gaussSeidel(A,b,N=2)"
   ]
  },
  {
   "cell_type": "markdown",
   "metadata": {},
   "source": [
    "# Regra dos Trapézios\n",
    "\n",
    "$$ \\int_{0}^{pi/2}sen(x)dx $$"
   ]
  },
  {
   "cell_type": "code",
   "execution_count": 3,
   "metadata": {},
   "outputs": [
    {
     "data": {
      "text/plain": [
       "0.9999678721750683"
      ]
     },
     "execution_count": 3,
     "metadata": {},
     "output_type": "execute_result"
    }
   ],
   "source": [
    "def trapRule(x0,x1,f,N=80):\n",
    "    h = abs(x1-x0)/N\n",
    "    x = x0 + h\n",
    "    res = 0\n",
    "    for i in range(N-1):\n",
    "        res += f(x)\n",
    "        x += h\n",
    "    return h*(f(x0)+f(x1)+2*res)/2\n",
    "\n",
    "from math import sin, pi\n",
    "\n",
    "def func(x):\n",
    "    return sin(x)\n",
    "\n",
    "trapRule(0,pi/2,func)"
   ]
  },
  {
   "cell_type": "markdown",
   "metadata": {},
   "source": [
    "# Regra de Simspon\n",
    "\n",
    "$$ \\int_{0}^{pi/2}sen(x)dx $$"
   ]
  },
  {
   "cell_type": "code",
   "execution_count": 4,
   "metadata": {},
   "outputs": [
    {
     "data": {
      "text/plain": [
       "1.00000000005161"
      ]
     },
     "execution_count": 4,
     "metadata": {},
     "output_type": "execute_result"
    }
   ],
   "source": [
    "def simsponRule(x0,x1,f,N=80):\n",
    "    res = 0\n",
    "    N *= 2\n",
    "    h = abs(x1-x0)/N\n",
    "    x = x0 +h\n",
    "    for i in range(1,N,2):\n",
    "        res += 4*f(x)\n",
    "        x += h * 2\n",
    "    \n",
    "    x = x0 + 2*h\n",
    "    \n",
    "    for i in range(2,N,2):\n",
    "        res += 2*f(x)\n",
    "        x += h * 2\n",
    "    \n",
    "    return h*(f(x0)+f(x1)+res)/3\n",
    "\n",
    "simsponRule(0,pi/2,func)"
   ]
  },
  {
   "cell_type": "markdown",
   "metadata": {},
   "source": [
    "## Quociente de Convergencia"
   ]
  },
  {
   "cell_type": "code",
   "execution_count": 5,
   "metadata": {},
   "outputs": [
    {
     "name": "stdout",
     "output_type": "stream",
     "text": [
      "Metodo: trapRule\n",
      "QC: 4.0000240948787225\n",
      "Ordem: 2.0\n",
      "Erro: 6.023940565147434e-06\n",
      "\n",
      "Metodo: simsponRule\n",
      "QC: 15.996035824401703\n",
      "Ordem: 4.0\n",
      "Erro: -1.0082305360962589e-12\n"
     ]
    },
    {
     "data": {
      "text/plain": [
       "15.996035824401703"
      ]
     },
     "execution_count": 5,
     "metadata": {},
     "output_type": "execute_result"
    }
   ],
   "source": [
    "from math import sqrt\n",
    "\n",
    "def qc1(x0,x1,f,method,N):\n",
    "    s = method(x0,x1,f,N)\n",
    "    s1 = method(x0,x1,f,N*2)\n",
    "    s2 = method(x0,x1,f,N*4)\n",
    "    \n",
    "    print(\"Metodo:\",method.__name__)\n",
    "    print(\"QC:\",(s1-s)/(s2-s1))\n",
    "    print(\"Ordem:\",round(sqrt((s1-s)/(s2-s1)),0))\n",
    "    print(\"Erro:\",(s2-s1)/(round(sqrt((s1-s)/(s2-s1)),0)-1))\n",
    "    \n",
    "    return (s1-s)/(s2-s1)\n",
    "\n",
    "qc1(0,pi/2,func,trapRule,80)\n",
    "print()\n",
    "qc1(0,pi/2,func,simsponRule,80)"
   ]
  },
  {
   "cell_type": "markdown",
   "metadata": {},
   "source": [
    "# Equações diferenciais\n",
    "\n",
    "$$ \\begin{cases} y'=\\frac{dy}{dx} \\\\ y' = x^2 + y^2 \\end{cases}$$\n",
    "\n",
    "Condições iniciais: $x_0 = 0$, $y_0=0$ e $h=0.1$ no intervalo $[0,1.4]$."
   ]
  },
  {
   "cell_type": "code",
   "execution_count": 6,
   "metadata": {},
   "outputs": [],
   "source": [
    "def function(x,y):\n",
    "    return x**2+y**2\n",
    "\n",
    "h = 0.1\n",
    "x = 0\n",
    "y = 0\n",
    "xf = 1.4"
   ]
  },
  {
   "cell_type": "markdown",
   "metadata": {},
   "source": [
    "## Euler"
   ]
  },
  {
   "cell_type": "code",
   "execution_count": 7,
   "metadata": {},
   "outputs": [
    {
     "data": {
      "text/plain": [
       "1.2133521037023478"
      ]
     },
     "execution_count": 7,
     "metadata": {},
     "output_type": "execute_result"
    }
   ],
   "source": [
    "def euler(h,x,y,f,xf):\n",
    "    while x < xf:\n",
    "        x += h\n",
    "        y += h*f(x,y)\n",
    "    return y\n",
    "\n",
    "euler(h,x,y,function,xf)"
   ]
  },
  {
   "cell_type": "markdown",
   "metadata": {},
   "source": [
    "## Runge-Kutta-2"
   ]
  },
  {
   "cell_type": "code",
   "execution_count": 8,
   "metadata": {},
   "outputs": [
    {
     "data": {
      "text/plain": [
       "1.9774402677613074"
      ]
     },
     "execution_count": 8,
     "metadata": {},
     "output_type": "execute_result"
    }
   ],
   "source": [
    "def rk2(h,x,y,f,xf):\n",
    "    h2 = (x+xf)/2\n",
    "    while x < xf:\n",
    "        yln = f(x,y)\n",
    "        deltay = f(x+h/2,y+h2*yln/2)*h\n",
    "        x += h\n",
    "        y += deltay\n",
    "    return y\n",
    "\n",
    "rk2(h,x,y,function,xf)\n"
   ]
  },
  {
   "cell_type": "markdown",
   "metadata": {},
   "source": [
    "## Runge-Kutta-4"
   ]
  },
  {
   "cell_type": "code",
   "execution_count": 9,
   "metadata": {},
   "outputs": [
    {
     "data": {
      "text/plain": [
       "1.1171166783927375"
      ]
     },
     "execution_count": 9,
     "metadata": {},
     "output_type": "execute_result"
    }
   ],
   "source": [
    "def rk4(h,x,y,f,xf):\n",
    "    h2 = (x+xf)/2.0\n",
    "    while x < xf:\n",
    "        sigma1 = h*f(x,y)\n",
    "        sigma2 = h*f(x+h/2,y+sigma1/2)\n",
    "        sigma3 = h*f(x+h*h2/2,y+sigma2/2)\n",
    "        sigma4 = h*f(x+h,y+sigma3)\n",
    "        \n",
    "        x+=h\n",
    "        y+=(sigma1+2*sigma2+2*sigma3+sigma4)/6.0\n",
    "    return y\n",
    "\n",
    "rk4(h,x,y,function,xf)"
   ]
  },
  {
   "cell_type": "markdown",
   "metadata": {},
   "source": [
    "## Quociente de convergencia"
   ]
  },
  {
   "cell_type": "code",
   "execution_count": 10,
   "metadata": {},
   "outputs": [
    {
     "name": "stdout",
     "output_type": "stream",
     "text": [
      "Metodo: euler\n",
      "QC: 0.6370533539285248\n",
      "Ordem: 1.0\n",
      "Metodo: rk2\n",
      "QC: 0.19426207348580815\n",
      "Ordem: 0.0\n",
      "Metodo: rk4\n",
      "QC: 0.09020802626434055\n",
      "Ordem: 0.0\n"
     ]
    },
    {
     "data": {
      "text/plain": [
       "0.09020802626434055"
      ]
     },
     "execution_count": 10,
     "metadata": {},
     "output_type": "execute_result"
    }
   ],
   "source": [
    "def qc2(h,x,y,f,xf,method):\n",
    "    s = method(h,x,y,f,xf)\n",
    "    s1 = method(h/2,x,y,f,xf)\n",
    "    s2 = method(h/4,x,y,f,xf)\n",
    "    \n",
    "    qc = abs((s1-s)/(s2-s1))\n",
    "    order = round(sqrt(qc),0)\n",
    "    print(\"Metodo:\",method.__name__)\n",
    "    print(\"QC:\",qc)\n",
    "    print(\"Ordem:\",order)\n",
    "    # print(\"Erro:\",(s2-s1)/(order-1))\n",
    "    \n",
    "    return (s1-s)/(s2-s1)\n",
    "\n",
    "qc2(h,x,y,function,xf,euler)\n",
    "qc2(h,x,y,function,xf,rk2)\n",
    "qc2(h,x,y,function,xf,rk4)"
   ]
  }
 ],
 "metadata": {
  "kernelspec": {
   "display_name": "Python 3",
   "language": "python",
   "name": "python3"
  },
  "language_info": {
   "codemirror_mode": {
    "name": "ipython",
    "version": 3
   },
   "file_extension": ".py",
   "mimetype": "text/x-python",
   "name": "python",
   "nbconvert_exporter": "python",
   "pygments_lexer": "ipython3",
   "version": "3.7.4"
  }
 },
 "nbformat": 4,
 "nbformat_minor": 2
}
