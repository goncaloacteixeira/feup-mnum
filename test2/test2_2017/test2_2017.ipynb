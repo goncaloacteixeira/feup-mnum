{
 "cells": [
  {
   "cell_type": "markdown",
   "metadata": {},
   "source": [
    "## 1- Estudo da Estabilidade externa\n",
    "\n",
    "Considere $\\delta_A = \\delta_b = 0.1$ e o seguinte sistema com as seguintes soluções:\n",
    "\n",
    "$$\\begin{cases}18x-y+z=10 \\\\ 3x-5y+4z=2 \\\\ 6x+8y+29=-1 \\end{cases}$$\n",
    "\n",
    "\n",
    "$$\\begin{cases} x=0.552949 \\\\ y = -0.15347 \\\\ z = -0.10655 \\end{cases}$$"
   ]
  },
  {
   "cell_type": "markdown",
   "metadata": {},
   "source": [
    "Utilizando o maxima temos os seguintes valores:\n",
    "\n",
    "$$\\begin{cases}\\delta_x = 0.00320 \\\\ \\delta_y = -0.00885 \\\\ \\delta_z = 0.004216 \\end{cases}$$"
   ]
  },
  {
   "cell_type": "markdown",
   "metadata": {},
   "source": [
    "## 2- Gauss-Seidel\n",
    "\n",
    "Usando os valores iniciais de $X_0$, calcule uma iteração pelo método de **Gauss-Seidel**.\n",
    "\n",
    "A = [[6, 0.5, 3, 0.25],    \n",
    "        [1.2, 3, 0.25, 0.2],  \n",
    "        [-1,0.25,4,2],  \n",
    "        [2, 4, 1, 8]]  \n",
    "     \n",
    "b = [25,10,7,-12]\n",
    "\n",
    "x0 = [2.12687, 2.39858, 3.99517, -3.73040]"
   ]
  },
  {
   "cell_type": "code",
   "execution_count": 1,
   "metadata": {},
   "outputs": [
    {
     "name": "stdout",
     "output_type": "stream",
     "text": [
      "x0: 2.12463\n",
      "x1: 2.39924\n",
      "x2: 3.99641\n",
      "x3: -3.73033\n"
     ]
    }
   ],
   "source": [
    "def gaussSeidel(A,b,N=25,x=None):\n",
    "    if x == None:\n",
    "        x = [0 for i in range(len(A[0]))]\n",
    "    \n",
    "    for i in range(len(A[0])):\n",
    "        d = b[i]\n",
    "        for j in range(len(A[0])):\n",
    "            if j != i:\n",
    "                d -= A[i][j]*x[j]\n",
    "        x[i] = d / A[i][i]\n",
    "    return x\n",
    "\n",
    "\n",
    "\n",
    "matA = [[6, 0.5, 3, 0.25],  \n",
    "        [1.2, 3, 0.25, 0.2],\n",
    "        [-1,0.25,4,2],\n",
    "        [2, 4, 1, 8]]\n",
    "     \n",
    "colb = [25,10,7,-12]\n",
    "\n",
    "x0 = [2.12687, 2.39858, 3.99517, -3.73040] \n",
    "\n",
    "res = gaussSeidel(matA,colb,x=x0,N=1)\n",
    "\n",
    "for i,c in enumerate(res):\n",
    "    print(\"x%d: %.05f\" %(i,c))"
   ]
  },
  {
   "cell_type": "markdown",
   "metadata": {},
   "source": [
    "## 3- Simpson\n",
    "\n",
    "Calular o integral de $f(x)$ de $0.0$ a $2.0$ com passo $0.25$ utilizando o Método de Simpson.\n",
    "\n",
    "para $h=0.25$ teremos $N=8$, que é o menor passo de integração, portanto vamos começar com apenas $N=1$"
   ]
  },
  {
   "cell_type": "code",
   "execution_count": 2,
   "metadata": {},
   "outputs": [
    {
     "name": "stdout",
     "output_type": "stream",
     "text": [
      "Method: simpson\n",
      "QC: 2.7872340425531963\n",
      "ErroAbs: 0.08765873015872984\n",
      "ErroRel: 0.06306383464656823 \n",
      "\n",
      "resultado (N=4):  1.39\n"
     ]
    }
   ],
   "source": [
    "function = {0:1.04,0.25:0.37,0.50:0.38,0.75:1.49,1.0:1.08,1.25:0.13,1.50:0.64,1.75:0.84,2.0:0.12}\n",
    "\n",
    "def simpson(x0,x1,func,N=1):\n",
    "    res = 0\n",
    "    N *= 2\n",
    "    h = (x1-x0)/N\n",
    "    \n",
    "    x = x0 + h\n",
    "    \n",
    "    for i in range(1,N,2):\n",
    "        res += 4*func[x]\n",
    "        x += h*2\n",
    "    \n",
    "    x = x0 + 2*h\n",
    "    \n",
    "    for i in range(2,N,2):\n",
    "        res += 2*func[x]\n",
    "        x += h*2\n",
    "        \n",
    "    return h * (func[x0] + func[x1] + res) / 3.0\n",
    "\n",
    "\n",
    "\n",
    "from math import sqrt\n",
    "\n",
    "def QC(x0,x1,func, method, N=1):\n",
    "    S0 = method(x0,x1,func,N)\n",
    "    S1 = method(x0,x1,func,N*2)\n",
    "    S2 = method(x0,x1,func,N*4)\n",
    "    \n",
    "    qc = abs((S2-S0)/(S2-S1))\n",
    "    \n",
    "    \n",
    "    print(\"Method:\", method.__name__)\n",
    "    # print(\"Order:\",round(sqrt(qc),2))\n",
    "    print(\"QC:\",qc)\n",
    "    print(\"ErroAbs:\",(S2-S1)/(qc-1))\n",
    "    print(\"ErroRel:\",((S2-S1)/(qc-1))/S2,\"\\n\")\n",
    "    \n",
    "    return qc\n",
    "\n",
    "QC(0,2,function,simpson,N=1)\n",
    "    \n",
    "    \n",
    "print(\"resultado (N=4): \", simpson(0,2,function,N=4))    "
   ]
  },
  {
   "cell_type": "markdown",
   "metadata": {},
   "source": [
    "## 4- Cubatura"
   ]
  },
  {
   "cell_type": "code",
   "execution_count": 3,
   "metadata": {},
   "outputs": [
    {
     "data": {
      "text/plain": [
       "11.025"
      ]
     },
     "execution_count": 3,
     "metadata": {},
     "output_type": "execute_result"
    }
   ],
   "source": [
    "function = [[1.1,1.4,7.7],[2.1,3.1,2.2],[7.3,1.5,1.2]]\n",
    "\n",
    "res = 0\n",
    "\n",
    "for i in range(len(function)):\n",
    "    for j in range(len(function)):\n",
    "        if (i == 0 or i == len(function)-1) and (j == 0 or j == len(function)-1):\n",
    "            res += function[i][j]\n",
    "        elif i == 0 or j == 0 or i == len(function) - 1 or j == len(function) - 1:\n",
    "            res += 2*function[i][j]\n",
    "        else:\n",
    "            res += 4*function[i][j]\n",
    "res/4"
   ]
  },
  {
   "cell_type": "markdown",
   "metadata": {},
   "source": [
    "## 5- Equações Diferenciais"
   ]
  },
  {
   "cell_type": "code",
   "execution_count": 4,
   "metadata": {},
   "outputs": [
    {
     "name": "stdout",
     "output_type": "stream",
     "text": [
      "    Euler\n",
      "iteration: 0\n",
      "t: 1\ty: 1\n",
      "\n",
      "iteration: 1\n",
      "t: 1.25\ty: 1.0\n",
      "\n",
      "iteration: 2\n",
      "t: 1.5\ty: 1.1875\n",
      "\n"
     ]
    }
   ],
   "source": [
    "def func(t,z):\n",
    "    return 2 + t**2 + t*z\n",
    "\n",
    "def euler(deltat, t, y, z, func, N=3):\n",
    "    \n",
    "    for i in range(N):\n",
    "        print(\"iteration:\",i)\n",
    "        print(\"t:\", t, end = \"\\t\")\n",
    "        print(\"y:\",y,end = \"\\n\\n\")\n",
    "        deltaz = func(t,z)\n",
    "        t += deltat\n",
    "        y += deltat * z\n",
    "        z += deltat * deltaz\n",
    "print(\"    Euler\")        \n",
    "euler(0.25,1,1,0,func)"
   ]
  },
  {
   "cell_type": "code",
   "execution_count": 5,
   "metadata": {},
   "outputs": [
    {
     "name": "stdout",
     "output_type": "stream",
     "text": [
      "iteration: 0\n",
      "t: 1\ty: 1\n",
      "\n",
      "iteration: 1\n",
      "t: 1.25\ty: 1.1090799967447917\n",
      "\n",
      "iteration: 2\n",
      "t: 1.5\ty: 1.5222178898645022\n",
      "\n"
     ]
    }
   ],
   "source": [
    "def rk4(h, t, y, z, dz, N=3):\n",
    "    \n",
    "    for i in range(N):\n",
    "        print(\"iteration:\",i)\n",
    "        print(\"t:\", t, end = \"\\t\")\n",
    "        print(\"y:\",y,end = \"\\n\\n\")\n",
    "        z1 = (h * z);\n",
    "        dz1 = h * dz(t, z);\n",
    "        z2 = (h * (z + dz1 / 2));\n",
    "        dz2 = (h * (dz(t + h/2, z + dz1 / 2)));\n",
    "        z3 = (h * (z + dz2 / 2));\n",
    "        dz3 = (h * (dz(t + h/2, z + dz2 / 2)));\n",
    "        z4 = (h * (z + dz3));\n",
    "        dz4 = (h * (dz(t + h, z + dz3)));\n",
    "        y += z1 / 6 + z2 / 3 + z3 / 3 + z4 / 6;\n",
    "        z += dz1 / 6 + dz2 / 3 + dz3 / 3 + dz4 / 6;\n",
    "        t += h;\n",
    "        \n",
    "    # adaptado do código do Henrique Pereira\n",
    "        \n",
    "rk4(0.25,1,1,0,func)"
   ]
  }
 ],
 "metadata": {
  "kernelspec": {
   "display_name": "Python 3",
   "language": "python",
   "name": "python3"
  },
  "language_info": {
   "codemirror_mode": {
    "name": "ipython",
    "version": 3
   },
   "file_extension": ".py",
   "mimetype": "text/x-python",
   "name": "python",
   "nbconvert_exporter": "python",
   "pygments_lexer": "ipython3",
   "version": "3.7.4"
  }
 },
 "nbformat": 4,
 "nbformat_minor": 2
}
