{
 "cells": [
  {
   "cell_type": "markdown",
   "metadata": {},
   "source": [
    "# Exercicios para o segundo teste \n",
    "*by Juliane Marubayashi\n",
    "juliane.marubayashi@gmail.com*\n",
    "\n",
    "Os exercícios são baseados (ou iguais) aos exercícios passados em sala de aula (MIEIC 2st).  \n",
    "\n",
    "## Gauss\n",
    "\n",
    "a) Usando o método de gauss, resolva o sistema:  \n",
    "\n",
    "$$\\left\\{\\begin{matrix}\n",
    "3x-y+2z = -1\\\\ \n",
    "x+y+z = 8\\\\ \n",
    "2x+0y+z = 5\n",
    "\\end{matrix}\\right.$$ \n",
    "\n",
    "b) Faça o estudo para a estabilidade externa considerando o erro nos dados de 0,5.   \n",
    "c) Calcule a estabilidade interna."
   ]
  },
  {
   "cell_type": "code",
   "execution_count": 1,
   "metadata": {},
   "outputs": [],
   "source": [
    "# matriz do enunciado\n",
    "\n",
    "m = [[3, -1, 2, -1],\n",
    "          [1, 1, 1, 8],\n",
    "          [2, 0, 1, 5]]"
   ]
  },
  {
   "cell_type": "code",
   "execution_count": 2,
   "metadata": {},
   "outputs": [
    {
     "name": "stdout",
     "output_type": "stream",
     "text": [
      "3  \t-1 \t2 | -1\n",
      "1  \t1 \t1 | 8\n",
      "2  \t0 \t1 | 5\n"
     ]
    }
   ],
   "source": [
    "# função para mostrar a matriz\n",
    "\n",
    "def printMatrix(matrix):\n",
    "    for line in matrix:\n",
    "        print(line[0], end='  \\t')\n",
    "        print(line[1], end=' \\t')\n",
    "        print(line[2], end=' | ')\n",
    "        print(line[3])\n",
    "\n",
    "printMatrix(m)"
   ]
  },
  {
   "cell_type": "markdown",
   "metadata": {},
   "source": [
    "## Alinea a)\n",
    "\n",
    "Usando o método da eliminação de gauss temos os seguintes valores para X0:"
   ]
  },
  {
   "cell_type": "code",
   "execution_count": 3,
   "metadata": {},
   "outputs": [
    {
     "name": "stdout",
     "output_type": "stream",
     "text": [
      "1.0  \t0.0 \t0.0 | 4.0\n",
      "0.0  \t1.0 \t0.0 | 7.000000000000001\n",
      "-0.0  \t-0.0 \t1.0 | -3.0000000000000004\n"
     ]
    }
   ],
   "source": [
    "# função para fazer a diagonalização de um sistema linear\n",
    "def diagonalization(amatrix):\n",
    "    dimV = len(amatrix)\n",
    "\n",
    "    # triangularizar a parte de baixo\n",
    "    for diag in range(dimV):\n",
    "        aux = amatrix[diag][diag]\n",
    "        for col in range(dimV + 1):\n",
    "            amatrix[diag][col] /= aux\n",
    "        for lin in range(diag + 1, dimV):\n",
    "            aux2 = amatrix[lin][diag]\n",
    "            for col in range(diag, dimV + 1):\n",
    "                amatrix[lin][col] -= amatrix[diag][col] * aux2\n",
    "\n",
    "    # triangularizar a parte de cima\n",
    "    for diag in range(dimV - 1, -1, -1):\n",
    "        for lin in range(diag - 1, -1, -1):\n",
    "            aux = amatrix[lin][diag]\n",
    "            for col in range(diag, dimV + 1):\n",
    "                amatrix[lin][col] -= amatrix[diag][col] * aux\n",
    "\n",
    "    \"\"\"\n",
    "        # no fim teremos uma matriz do tipo:\n",
    "        \n",
    "        1     0     0   |  x0\n",
    "        0     1     0   |  y0\n",
    "        0     0     1   |  z0\n",
    "        \n",
    "        em que a solução é {x0, y0, z0}\n",
    "    \"\"\"\n",
    "    return amatrix\n",
    "\n",
    "sol0 = diagonalization(m)\n",
    "printMatrix(sol0)"
   ]
  },
  {
   "cell_type": "markdown",
   "metadata": {},
   "source": [
    "## Resultado:\n",
    "\n",
    "X0 = {4.0, 7.0, -3.0}"
   ]
  },
  {
   "cell_type": "markdown",
   "metadata": {},
   "source": [
    "## TODO - ESTABILIDADE EXTERNA E INTERNA\n"
   ]
  },
  {
   "cell_type": "markdown",
   "metadata": {},
   "source": [
    "# Gauss-Jacobi e Gauss-Seidel\n",
    " \n",
    "$$\\left\\{\\begin{matrix}\n",
    "3x+y+z = 7\\\\ \n",
    "x+4y+2z = 4\\\\ \n",
    "2y+5z = 5\n",
    "\\end{matrix}\\right.$$\n",
    "\n",
    "a) Verifique o critério de convergência.  \n",
    "b) Calcule usando Gauss Jacobi e Gauss Seidel as raízes da equação \n"
   ]
  },
  {
   "cell_type": "code",
   "execution_count": 4,
   "metadata": {},
   "outputs": [],
   "source": [
    "matrixA = [[3,1,1],\n",
    "           [1,4,2],\n",
    "           [0,2,5]]\n",
    "colB = [7,4,5]"
   ]
  },
  {
   "cell_type": "markdown",
   "metadata": {},
   "source": [
    "\n",
    "    Uma melhor implementação para calculo do residuo em sistemas lineares.\n",
    "    \n",
    "    esta implementação requer    \n",
    "        uma matriz coluna X (solução)  \n",
    "        uma matriz A  \n",
    "        uma matriz coluna b  \n",
    "        \n",
    "    devolve uma matriz coluna com os valores do residuo  "
   ]
  },
  {
   "cell_type": "code",
   "execution_count": 5,
   "metadata": {},
   "outputs": [],
   "source": [
    "def residue(sol, originalA, originalb):\n",
    "    res = [0 for i in sol]\n",
    "    for i in range(len(originalA)):\n",
    "        for j in range(len(originalA)):\n",
    "            res[i] += originalA[i][j] * sol[j]\n",
    "\n",
    "    return [abs(res[i] - originalb[i]) for i in range(len(sol))]"
   ]
  },
  {
   "cell_type": "markdown",
   "metadata": {},
   "source": [
    "## Gauss-Jacobi\n",
    "    \n",
    "Basicamente é o método de Picard-Peano a regra é definida por recursão:\n",
    "    \n",
    "    o novo Xj é dado por:  \n",
    "    Xj = (b[j] - (A[j][0] * x[0] + A[j][1] * x[1] + A[j][2] * x[2])) / A[j][j]  \n",
    "    \n",
    "sendo que j é o indice da linha da matriz"
   ]
  },
  {
   "cell_type": "code",
   "execution_count": 6,
   "metadata": {},
   "outputs": [
    {
     "data": {
      "text/plain": [
       "[2.0, 0.0, 1.0]"
      ]
     },
     "execution_count": 6,
     "metadata": {},
     "output_type": "execute_result"
    }
   ],
   "source": [
    "def gaussJacobi(A, b, N=25, x=None, info=True):\n",
    "    if x is None:\n",
    "        x = [0 for i in A[0]]\n",
    "\n",
    "    for i in range(N):\n",
    "        if info:\n",
    "            eps = residue(x, A, b)\n",
    "            print(\"iteration %i\" % i)\n",
    "            for j in range(len(x)):\n",
    "                print(\"x%i: %f\\teps%i: %f\" % (j, x[j], j, eps[j]))\n",
    "        \n",
    "        aux = []\n",
    "        for j in range(len(A[0])):\n",
    "            x1 = (b[j] - (A[j][0] * x[0] + A[j][1] * x[1] + A[j][2] * x[2])) / A[j][j]\n",
    "            aux.append(x1)\n",
    "        x = [x[i] + aux[i] for i in range(len(x))]\n",
    "\n",
    "\n",
    "\n",
    "    return x\n",
    "\n",
    "gaussJacobi(matrixA, colB, N=500, info=False)"
   ]
  },
  {
   "cell_type": "markdown",
   "metadata": {},
   "source": [
    "## Gauss-Seidel\n",
    "    \n",
    "    Neste caso as novas soluçoes xj são substituidas no calculo de x(j+1)\n",
    "    \n",
    "    converge mais rapidamente"
   ]
  },
  {
   "cell_type": "code",
   "execution_count": 7,
   "metadata": {},
   "outputs": [
    {
     "data": {
      "text/plain": [
       "[2.0, 1.1102230246251565e-16, 1.0]"
      ]
     },
     "execution_count": 7,
     "metadata": {},
     "output_type": "execute_result"
    }
   ],
   "source": [
    "def gaussSeidel(A, b, N=25, x=None, info=True):\n",
    "    if x is None:\n",
    "        x = [0 for i in A[0]]\n",
    "\n",
    "    for i in range(N):\n",
    "        if info:\n",
    "            eps = residue(x, A, b)\n",
    "            print(\"iteration %i\" % i)\n",
    "            for j in range(len(x)):\n",
    "                print(\"x%i: %f\\teps%i: %f\" % (j, x[j], j, eps[j]))\n",
    "        \n",
    "        for j in range(len(A[0])):\n",
    "            x1 = (b[j] - (A[j][0] * x[0] + A[j][1] * x[1] + A[j][2] * x[2])) / A[j][j]\n",
    "            x[j] += x1\n",
    "\n",
    "    return x\n",
    "\n",
    "gaussSeidel(matrixA, colB, N=2000000, info=False)"
   ]
  },
  {
   "cell_type": "markdown",
   "metadata": {},
   "source": [
    "## Quadratura \n",
    "\n",
    "$$ \\int_{\\pi/2}^{\\pi} \\frac{sin(x)}{x^2}$$\n",
    "\n",
    "a) Calcule o integral pelo método dos trapézios e pelo método de simpson para n = 4.   \n",
    "b) Verifique se o passo usado é adequado (iso implíca calcular o interal numericamente três vezes com três passos de integração diferentes)  \n",
    "c) Calcule o erro de cada método"
   ]
  },
  {
   "cell_type": "code",
   "execution_count": 61,
   "metadata": {},
   "outputs": [
    {
     "name": "stdout",
     "output_type": "stream",
     "text": [
      "resultado: 0.24358830147057203\n"
     ]
    }
   ],
   "source": [
    "from math import sin, pi\n",
    "\n",
    "def func(x):\n",
    "    return sin(x)/x**2\n",
    "\n",
    "def trapRule(x0,x1,f,N=4):\n",
    "    res = 0\n",
    "    h = abs(x1-x0)/N\n",
    "    x = x0 + h\n",
    "    for i in range(N-1):\n",
    "        res += f(x)\n",
    "        x += h\n",
    "    \n",
    "    return h * (f(x0) + f(x1) + 2 * res) / 2\n",
    "\n",
    "print(\"resultado:\", trapRule(pi/2,pi,func))\n",
    "    "
   ]
  },
  {
   "cell_type": "code",
   "execution_count": 64,
   "metadata": {},
   "outputs": [
    {
     "name": "stdout",
     "output_type": "stream",
     "text": [
      "Ordem: 2.0\n",
      "Erro: -0.00033252413700863664\n"
     ]
    }
   ],
   "source": [
    "from math import sqrt\n",
    "\n",
    "def convergenceQuotientInt(x0, x1, f, N, method):\n",
    "    s0 = method(x0, x1, f, N)\n",
    "    s1 = method(x0, x1, f, N * 2)\n",
    "    s2 = method(x0, x1, f, N * 4)\n",
    "\n",
    "    order = round((s1 - s0) / (s2 - s1))\n",
    "    print(\"Ordem:\", sqrt(order))\n",
    "    \n",
    "    return (s2 - s1) / (order - 1)\n",
    "\n",
    "print(\"Erro:\", convergenceQuotientInt(pi/2,pi,func, 4, trapRule))"
   ]
  },
  {
   "cell_type": "code",
   "execution_count": 65,
   "metadata": {},
   "outputs": [
    {
     "name": "stdout",
     "output_type": "stream",
     "text": [
      "Resultado: 0.23829400365910458\n"
     ]
    }
   ],
   "source": [
    "def simpson(x0, x1, f, N=4):\n",
    "    res = 0\n",
    "    N *= 2\n",
    "    h = abs((x1 - x0) / N)\n",
    "    x = x0 + h\n",
    "\n",
    "    for i in range(1, N, 2):\n",
    "        res += 4 * f(x)\n",
    "        x += h * 2\n",
    "\n",
    "    x = x0 + 2 * h\n",
    "\n",
    "    for i in range(2, N, 2):\n",
    "        res += 2 * f(x)\n",
    "        x += h * 2\n",
    "\n",
    "    return h * (f(x0) + f(x1) + res) / 3\n",
    "\n",
    "print(\"Resultado:\",simpson(pi/2,pi,func))"
   ]
  },
  {
   "cell_type": "code",
   "execution_count": 66,
   "metadata": {},
   "outputs": [
    {
     "name": "stdout",
     "output_type": "stream",
     "text": [
      "Ordem: 4.0\n",
      "Erro: -2.8022554817338138e-08\n"
     ]
    }
   ],
   "source": [
    "print(\"Erro:\", convergenceQuotientInt(pi/2,pi,func, 4, simpson))"
   ]
  },
  {
   "cell_type": "markdown",
   "metadata": {},
   "source": [
    "### Discussão de Resultados\n",
    "\n",
    "Com a regra dos trapézios obtemos um QC de aproximadamente 4, o que é \"bom\", com um erro de cerca de 0.00033\n",
    "Com a regra de simpson obtemos um QC de aproximadamente 16, o que é \"bom\", com um erro bem menor, de cerca de 2.8e-8\n",
    "\n",
    "O passo usado foi adequado uma vez que os quocientes de convergencia atingiram o suposto."
   ]
  },
  {
   "cell_type": "markdown",
   "metadata": {},
   "source": [
    "## Equações diferenciais\n",
    "\n",
    "$$\\left\\{\\begin{matrix}  \n",
    "y' = \\frac{\\mathrm{d}y}{\\mathrm{d}x}\\\\   \n",
    "y' = x^2+ y^2  \n",
    "\\end{matrix}\\right.$$  \n",
    "\n",
    "a) Calcule a forma da curva da equação diferencial, considerando x0 = 0, y0= 0 e h= 1, no intervalo [0, 1.4]. Deves usar euler, RK2 e RK4.   \n",
    "b) Verifique se o passo é adequado em cada um dos métodos.   \n",
    "c) Calcule o erro dos métodos.   "
   ]
  },
  {
   "cell_type": "code",
   "execution_count": 67,
   "metadata": {},
   "outputs": [
    {
     "data": {
      "text/plain": [
       "Text(0.5, 1.0, \"Euler's method (h=0.100)\")"
      ]
     },
     "execution_count": 67,
     "metadata": {},
     "output_type": "execute_result"
    },
    {
     "data": {
      "image/png": "[encoded data removed]",
      "text/plain": [
       "<Figure size 432x288 with 1 Axes>"
      ]
     },
     "metadata": {
      "needs_background": "light"
     },
     "output_type": "display_data"
    }
   ],
   "source": [
    "def func(x,y):\n",
    "    return x**2 + y**2\n",
    "\n",
    "\n",
    "def euler(deltaxn, f, x, y, bound):\n",
    "    y_list = [0]\n",
    "    x_list = [0]\n",
    "    while x <= bound:\n",
    "        x += deltaxn\n",
    "        y += deltaxn * f(x,y)\n",
    "        y_list.append(y)\n",
    "        x_list.append(x)\n",
    "    return (x_list, y_list)\n",
    "\n",
    "import matplotlib.pyplot as plt\n",
    "\n",
    "h = 0.1\n",
    "(x,y) = euler(h,func,0,0,1.4)\n",
    "\n",
    "plt.plot(x,y)\n",
    "plt.ylabel('y')\n",
    "plt.xlabel('x')\n",
    "plt.title(\"Euler's method (h=%.03f)\" % h)"
   ]
  },
  {
   "cell_type": "code",
   "execution_count": 68,
   "metadata": {
    "scrolled": true
   },
   "outputs": [
    {
     "data": {
      "text/plain": [
       "Text(0.5, 1.0, \"RK2's method (h=0.100)\")"
      ]
     },
     "execution_count": 68,
     "metadata": {},
     "output_type": "execute_result"
    },
    {
     "data": {
      "image/png": "[encoded data removed]",
      "text/plain": [
       "<Figure size 432x288 with 1 Axes>"
      ]
     },
     "metadata": {
      "needs_background": "light"
     },
     "output_type": "display_data"
    }
   ],
   "source": [
    "def rungeKuta2(deltax, f, x, y, bound):\n",
    "    y_list = [0]\n",
    "    x_list = [0]\n",
    "    h = (x+bound)/2.0\n",
    "    \n",
    "    while x <= bound:\n",
    "        yln=f(x,y)\n",
    "        deltay=f(x+deltax/2.0, y+h*yln/2.0)*deltax\n",
    "        x += deltax\n",
    "        y += deltay\n",
    "        x_list.append(x)\n",
    "        y_list.append(y)\n",
    "        \n",
    "    return (x_list, y_list)\n",
    "        \n",
    "    \n",
    "h = 0.1\n",
    "(x,y) = rungeKuta2(h,func ,0,0,1.4)\n",
    "    \n",
    "plt.plot(x,y)\n",
    "plt.ylabel('y')\n",
    "plt.xlabel('x')\n",
    "plt.title(\"RK2's method (h=%.03f)\" % h)"
   ]
  },
  {
   "cell_type": "code",
   "execution_count": 69,
   "metadata": {},
   "outputs": [
    {
     "data": {
      "text/plain": [
       "Text(0.5, 1.0, \"RK4's method (h=0.100)\")"
      ]
     },
     "execution_count": 69,
     "metadata": {},
     "output_type": "execute_result"
    },
    {
     "data": {
      "image/png": "[encoded data removed]",
      "text/plain": [
       "<Figure size 432x288 with 1 Axes>"
      ]
     },
     "metadata": {
      "needs_background": "light"
     },
     "output_type": "display_data"
    }
   ],
   "source": [
    "def rungeKuta4(deltax, f, x, y, bound):\n",
    "    y_list = [0]\n",
    "    x_list = [0]\n",
    "    h = (x+bound)/2.0\n",
    "    \n",
    "    while x <= bound:\n",
    "        sigma1 = deltax*f(x,y)\n",
    "        sigma2 = deltax*f(x+deltax/2.0, y+sigma1/2.0)\n",
    "        sigma3 = deltax*f(x+deltax*h/2.0, y+sigma2/2.0)\n",
    "        sigma4 = deltax*f(x+deltax, y+sigma3)\n",
    "        \n",
    "        x += deltax\n",
    "        y += (sigma1+2.0*sigma2+2.0*sigma3+sigma4)/6.0\n",
    "        \n",
    "        x_list.append(x)\n",
    "        y_list.append(y)\n",
    "        \n",
    "    return (x_list, y_list)\n",
    "        \n",
    "    \n",
    "h = 0.1\n",
    "(x,y) = rungeKuta4(h,func,0,0,1.4)\n",
    "    \n",
    "plt.plot(x,y)\n",
    "plt.ylabel('y')\n",
    "plt.xlabel('x')\n",
    "plt.title(\"RK4's method (h=%.03f)\" % h)\n",
    "        "
   ]
  },
  {
   "cell_type": "markdown",
   "metadata": {},
   "source": [
    "## TODO - QUOCIENTE DE CONVERGENCIA PARA ED'S E CALCULO DE ERROS (TIRAR DUVIDA NA AULA)"
   ]
  }
 ],
 "metadata": {
  "kernelspec": {
   "display_name": "Python 3",
   "language": "python",
   "name": "python3"
  },
  "language_info": {
   "codemirror_mode": {
    "name": "ipython",
    "version": 3
   },
   "file_extension": ".py",
   "mimetype": "text/x-python",
   "name": "python",
   "nbconvert_exporter": "python",
   "pygments_lexer": "ipython3",
   "version": "3.7.4"
  }
 },
 "nbformat": 4,
 "nbformat_minor": 2
}
