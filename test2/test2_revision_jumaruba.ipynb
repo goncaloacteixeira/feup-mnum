{
 "cells": [
  {
   "cell_type": "markdown",
   "metadata": {},
   "source": [
    "# Exercicios para o segundo teste \n",
    "*by Juliane Marubayashi\n",
    "juliane.marubayashi@gmail.com*\n",
    "\n",
    "Os exercícios são baseados (ou iguais) aos exercícios passados em sala de aula (MIEIC 2st).  \n",
    "\n",
    "## Gauss\n",
    "\n",
    "a) Usando o método de gauss, resolva o sistema:  \n",
    "\n",
    "$$\\left\\{\\begin{matrix}\n",
    "3x-y+2z = -1\\\\ \n",
    "x+y+z = 8\\\\ \n",
    "2x+0y+z = 5\n",
    "\\end{matrix}\\right.$$ \n",
    "\n",
    "b) Faça o estudo para a estabilidade externa considerando o erro nos dados de 0,5.   \n",
    "c) Calcule a estabilidade interna."
   ]
  },
  {
   "cell_type": "code",
   "execution_count": 1,
   "metadata": {},
   "outputs": [],
   "source": [
    "# matriz do enunciado\n",
    "\n",
    "m = [[3, -1, 2, -1],\n",
    "          [1, 1, 1, 8],\n",
    "          [2, 0, 1, 5]]"
   ]
  },
  {
   "cell_type": "code",
   "execution_count": 10,
   "metadata": {},
   "outputs": [
    {
     "name": "stdout",
     "output_type": "stream",
     "text": [
      "3  \t-1 \t2 | -1\n",
      "1  \t1 \t1 | 8\n",
      "2  \t0 \t1 | 5\n"
     ]
    }
   ],
   "source": [
    "# função para mostrar a matriz\n",
    "\n",
    "def printMatrix(matrix):\n",
    "    for line in matrix:\n",
    "        print(line[0], end='  \\t')\n",
    "        print(line[1], end=' \\t')\n",
    "        print(line[2], end=' | ')\n",
    "        print(line[3])\n",
    "\n",
    "printMatrix(m)"
   ]
  },
  {
   "cell_type": "markdown",
   "metadata": {},
   "source": [
    "## Alinea a)\n",
    "\n",
    "Usando o método da eliminação de gauss temos os seguintes valores para X0:"
   ]
  },
  {
   "cell_type": "code",
   "execution_count": 11,
   "metadata": {},
   "outputs": [
    {
     "name": "stdout",
     "output_type": "stream",
     "text": [
      "1.0  \t0.0 \t0.0 | 4.0\n",
      "0.0  \t1.0 \t0.0 | 7.000000000000001\n",
      "-0.0  \t-0.0 \t1.0 | -3.0000000000000004\n"
     ]
    }
   ],
   "source": [
    "# função para fazer a diagonalização de um sistema linear\n",
    "def diagonalization(amatrix):\n",
    "    dimV = len(amatrix)\n",
    "\n",
    "    # triangularizar a parte de baixo\n",
    "    for diag in range(dimV):\n",
    "        aux = amatrix[diag][diag]\n",
    "        for col in range(dimV + 1):\n",
    "            amatrix[diag][col] /= aux\n",
    "        for lin in range(diag + 1, dimV):\n",
    "            aux2 = amatrix[lin][diag]\n",
    "            for col in range(diag, dimV + 1):\n",
    "                amatrix[lin][col] -= amatrix[diag][col] * aux2\n",
    "\n",
    "    # triangularizar a parte de cima\n",
    "    for diag in range(dimV - 1, -1, -1):\n",
    "        for lin in range(diag - 1, -1, -1):\n",
    "            aux = amatrix[lin][diag]\n",
    "            for col in range(diag, dimV + 1):\n",
    "                amatrix[lin][col] -= amatrix[diag][col] * aux\n",
    "\n",
    "    \"\"\"\n",
    "        # no fim teremos uma matriz do tipo:\n",
    "        \n",
    "        1     0     0   |  x0\n",
    "        0     1     0   |  y0\n",
    "        0     0     1   |  z0\n",
    "        \n",
    "        em que a solução é {x0, y0, z0}\n",
    "    \"\"\"\n",
    "    return amatrix\n",
    "\n",
    "sol0 = diagonalization(m)\n",
    "printMatrix(sol0)"
   ]
  },
  {
   "cell_type": "markdown",
   "metadata": {},
   "source": [
    "## Resultado:\n",
    "\n",
    "X0 = {4.0, 7.0, -3.0}"
   ]
  },
  {
   "cell_type": "markdown",
   "metadata": {},
   "source": [
    "## TODO - ESTABILIDADE EXTERNA E INTERNA\n"
   ]
  },
  {
   "cell_type": "markdown",
   "metadata": {},
   "source": [
    "# Gauss-Jacobi e Gauss-Seidel\n",
    " \n",
    "$$\\left\\{\\begin{matrix}\n",
    "3x+y+z = 7\\\\ \n",
    "x+4y+2z = 4\\\\ \n",
    "2y+5z = 5\n",
    "\\end{matrix}\\right.$$\n",
    "\n",
    "a) Verifique o critério de convergência.  \n",
    "b) Calcule usando Gauss Jacobi e Gauss Seidel as raízes da equação \n"
   ]
  },
  {
   "cell_type": "code",
   "execution_count": 12,
   "metadata": {},
   "outputs": [],
   "source": [
    "matrixA = [[3,1,1],\n",
    "           [1,4,2],\n",
    "           [0,2,5]]\n",
    "colB = [7,4,5]"
   ]
  },
  {
   "cell_type": "markdown",
   "metadata": {},
   "source": [
    "\n",
    "    Uma melhor implementação para calculo do residuo em sistemas lineares.\n",
    "    \n",
    "    esta implementação requer    \n",
    "        uma matriz coluna X (solução)  \n",
    "        uma matriz A  \n",
    "        uma matriz coluna b  \n",
    "        \n",
    "    devolve uma matriz coluna com os valores do residuo  "
   ]
  },
  {
   "cell_type": "code",
   "execution_count": 14,
   "metadata": {},
   "outputs": [],
   "source": [
    "def residue(sol, originalA, originalb):\n",
    "    res = [0 for i in sol]\n",
    "    for i in range(len(originalA)):\n",
    "        for j in range(len(originalA)):\n",
    "            res[i] += originalA[i][j] * sol[j]\n",
    "\n",
    "    return [abs(res[i] - originalb[i]) for i in range(len(sol))]"
   ]
  },
  {
   "cell_type": "markdown",
   "metadata": {},
   "source": [
    "## Gauss-Jacobi\n",
    "    \n",
    "Basicamente é o método de Picard-Peano a regra é definida por recursão:\n",
    "    \n",
    "    o novo Xj é dado por:  \n",
    "    Xj = (b[j] - (A[j][0] * x[0] + A[j][1] * x[1] + A[j][2] * x[2])) / A[j][j]  \n",
    "    \n",
    "sendo que j é o indice da linha da matriz"
   ]
  },
  {
   "cell_type": "code",
   "execution_count": 29,
   "metadata": {},
   "outputs": [
    {
     "data": {
      "text/plain": [
       "[2.0, 0.0, 1.0]"
      ]
     },
     "execution_count": 29,
     "metadata": {},
     "output_type": "execute_result"
    }
   ],
   "source": [
    "def gaussJacobi(A, b, N=25, x=None, info=True):\n",
    "    if x is None:\n",
    "        x = [0 for i in A[0]]\n",
    "\n",
    "    for i in range(N):\n",
    "        if info:\n",
    "            eps = residue(x, A, b)\n",
    "            print(\"iteration %i\" % i)\n",
    "            for j in range(len(x)):\n",
    "                print(\"x%i: %f\\teps%i: %f\" % (j, x[j], j, eps[j]))\n",
    "        \n",
    "        aux = []\n",
    "        for j in range(len(A[0])):\n",
    "            x1 = (b[j] - (A[j][0] * x[0] + A[j][1] * x[1] + A[j][2] * x[2])) / A[j][j]\n",
    "            aux.append(x1)\n",
    "        x = [x[i] + aux[i] for i in range(len(x))]\n",
    "\n",
    "\n",
    "\n",
    "    return x\n",
    "\n",
    "gaussJacobi(matrixA, colB, N=500, info=False)"
   ]
  },
  {
   "cell_type": "markdown",
   "metadata": {},
   "source": [
    "## Gauss-Seidel\n",
    "    \n",
    "    Neste caso as novas soluçoes xj são substituidas no calculo de x(j+1)\n",
    "    \n",
    "    converge mais rapidamente"
   ]
  },
  {
   "cell_type": "code",
   "execution_count": 35,
   "metadata": {},
   "outputs": [
    {
     "data": {
      "text/plain": [
       "[2.0, 1.1102230246251565e-16, 1.0]"
      ]
     },
     "execution_count": 35,
     "metadata": {},
     "output_type": "execute_result"
    }
   ],
   "source": [
    "def gaussSeidel(A, b, N=25, x=None, info=True):\n",
    "    if x is None:\n",
    "        x = [0 for i in A[0]]\n",
    "\n",
    "    for i in range(N):\n",
    "        if info:\n",
    "            eps = residue(x, A, b)\n",
    "            print(\"iteration %i\" % i)\n",
    "            for j in range(len(x)):\n",
    "                print(\"x%i: %f\\teps%i: %f\" % (j, x[j], j, eps[j]))\n",
    "        \n",
    "        for j in range(len(A[0])):\n",
    "            x1 = (b[j] - (A[j][0] * x[0] + A[j][1] * x[1] + A[j][2] * x[2])) / A[j][j]\n",
    "            x[j] += x1\n",
    "\n",
    "    return x\n",
    "\n",
    "gaussSeidel(matrixA, colB, N=2000000, info=False)"
   ]
  }
 ],
 "metadata": {
  "kernelspec": {
   "display_name": "Python 3",
   "language": "python",
   "name": "python3"
  },
  "language_info": {
   "codemirror_mode": {
    "name": "ipython",
    "version": 3
   },
   "file_extension": ".py",
   "mimetype": "text/x-python",
   "name": "python",
   "nbconvert_exporter": "python",
   "pygments_lexer": "ipython3",
   "version": "3.7.4"
  }
 },
 "nbformat": 4,
 "nbformat_minor": 2
}
