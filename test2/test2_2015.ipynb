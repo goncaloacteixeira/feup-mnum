{
 "cells": [
  {
   "cell_type": "markdown",
   "metadata": {},
   "source": [
    "# Ex1"
   ]
  },
  {
   "cell_type": "code",
   "execution_count": 16,
   "metadata": {},
   "outputs": [
    {
     "name": "stdout",
     "output_type": "stream",
     "text": [
      "h=1.0: 1.8533\n",
      "h=0.5: 1.5033\n",
      "-> h=0.25: 1.8483 | erro: 0.023\n"
     ]
    }
   ],
   "source": [
    "function1 = {0:0.36,\n",
    "            0.25:1.19,\n",
    "            0.5:1.32,\n",
    "            0.75:0.21,\n",
    "            1:1.15,\n",
    "            1.25:1.39,\n",
    "            1.5:0.12,\n",
    "            1.75:1.22,\n",
    "            2:0.6}\n",
    "\n",
    "def simpson(h, x0, x1, f):\n",
    "    i = 1\n",
    "    res = 0\n",
    "    x = x0 + h\n",
    "    while x < x1:\n",
    "        if i % 2 == 0:\n",
    "            res += 2*f[x]\n",
    "        else:\n",
    "            res += 4*f[x]\n",
    "        i += 1\n",
    "        x = i*h\n",
    "    return h * (f[x0]+f[x1]+res)/3\n",
    "\n",
    "h = 1.0\n",
    "s = round(simpson(h,0,2,function1),4)\n",
    "s1 = round(simpson(h/2,0,2,function1),4)\n",
    "s2 = round(simpson(h/4,0,2,function1),4)\n",
    "print(\"h=1.0:\", s)\n",
    "print(\"h=0.5:\", s1)\n",
    "print(\"-> h=0.25:\", s2, end=' | ')\n",
    "print(\"erro:\",round((s2-s1)/15,4))"
   ]
  },
  {
   "cell_type": "markdown",
   "metadata": {},
   "source": [
    "# Ex2"
   ]
  },
  {
   "cell_type": "code",
   "execution_count": 25,
   "metadata": {},
   "outputs": [
    {
     "name": "stdout",
     "output_type": "stream",
     "text": [
      "x0: 0.27778\n",
      "x1: -0.16667\n",
      "x2: -0.22222\n",
      "x3: 0.00000\n",
      "\n",
      "x0: 0.18557\n",
      "x1: -0.18557\n",
      "x2: -0.13255\n",
      "x3: -0.15317\n"
     ]
    }
   ],
   "source": [
    "def gaussJacobi(A,b,x=None,N=2):\n",
    "    for i in range(N):\n",
    "        aux = []\n",
    "        for i in range(len(A[0])):\n",
    "            sigma = 0\n",
    "            for j in range(len(A[0])):\n",
    "                if j!=i:\n",
    "                    sigma += A[i][j]*x[j]\n",
    "            sigma = (b[i]-sigma)/A[i][i]\n",
    "            aux.append(sigma)\n",
    "        x = [k for k in aux]\n",
    "        \n",
    "    return x\n",
    "\n",
    "matA = [[4.5,-1,-1,1],\n",
    "     [-1,4.5,1,-1],\n",
    "     [-1,2,4.5,-1],\n",
    "     [2,-1,-1,4.5]]\n",
    "\n",
    "colB = [1,-1,-1,0]\n",
    "\n",
    "X = [0.25 for i in range(4)]\n",
    "\n",
    "X0 = gaussJacobi(matA,colB,x=X,N=1)\n",
    "\n",
    "for i,c in enumerate(X0):\n",
    "    print(\"x%d: %.05f\" % (i,c))\n",
    "print()\n",
    "X0 = gaussJacobi(matA,colB,x=X,N=50000)\n",
    "for i,c in enumerate(X0):\n",
    "    print(\"x%d: %.05f\" % (i,c))  "
   ]
  },
  {
   "cell_type": "markdown",
   "metadata": {},
   "source": [
    "# EX3 (exame)"
   ]
  },
  {
   "cell_type": "markdown",
   "metadata": {},
   "source": [
    "# EX4 (teste seguinte)"
   ]
  }
 ],
 "metadata": {
  "kernelspec": {
   "display_name": "Python 3",
   "language": "python",
   "name": "python3"
  },
  "language_info": {
   "codemirror_mode": {
    "name": "ipython",
    "version": 3
   },
   "file_extension": ".py",
   "mimetype": "text/x-python",
   "name": "python",
   "nbconvert_exporter": "python",
   "pygments_lexer": "ipython3",
   "version": "3.7.4"
  }
 },
 "nbformat": 4,
 "nbformat_minor": 2
}
