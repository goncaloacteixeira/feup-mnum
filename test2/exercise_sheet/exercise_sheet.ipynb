{
 "cells": [
  {
   "cell_type": "markdown",
   "metadata": {},
   "source": [
    "## Folha extra de Exercícios - Turma 6\n",
    "\n",
    "#### 1- Resolva o seguinte sistema utilizando o método da eliminação de Gauss:\n",
    "\n",
    "$$\\begin{cases}-2x-6y-z=-38 \\\\ -3x-y+7z=-34 \\\\ -8x+y-2z=-20 \\end{cases}$$"
   ]
  },
  {
   "cell_type": "code",
   "execution_count": 1,
   "metadata": {},
   "outputs": [],
   "source": [
    "# função para fazer a diagonalização de um sistema linear\n",
    "def diagonalization(amatrix):\n",
    "    dimV = len(amatrix)\n",
    "\n",
    "    # triangularizar a parte de baixo\n",
    "    for diag in range(dimV):\n",
    "        aux = amatrix[diag][diag]\n",
    "        for col in range(dimV + 1):\n",
    "            amatrix[diag][col] /= aux\n",
    "        for lin in range(diag + 1, dimV):\n",
    "            aux2 = amatrix[lin][diag]\n",
    "            for col in range(diag, dimV + 1):\n",
    "                amatrix[lin][col] -= amatrix[diag][col] * aux2\n",
    "\n",
    "    # triangularizar a parte de cima\n",
    "    for diag in range(dimV - 1, -1, -1):\n",
    "        for lin in range(diag - 1, -1, -1):\n",
    "            aux = amatrix[lin][diag]\n",
    "            for col in range(diag, dimV + 1):\n",
    "                amatrix[lin][col] -= amatrix[diag][col] * aux\n",
    "\n",
    "    \"\"\"\n",
    "        # no fim teremos uma matriz do tipo:\n",
    "        \n",
    "        1     0     0   |  x0\n",
    "        0     1     0   |  y0\n",
    "        0     0     1   |  z0\n",
    "        \n",
    "        em que a solução é {x0, y0, z0}\n",
    "    \"\"\"\n",
    "    return amatrix"
   ]
  },
  {
   "cell_type": "code",
   "execution_count": 2,
   "metadata": {},
   "outputs": [
    {
     "name": "stdout",
     "output_type": "stream",
     "text": [
      "x1: 3.796437659033078\n",
      "x2: 5.475826972010179\n",
      "x3: -2.4478371501272265\n"
     ]
    }
   ],
   "source": [
    "m = [[-2,-6,-1,-38],\n",
    "    [-3,-1,7,-34],\n",
    "    [-8,1,-2,-20]]\n",
    "\n",
    "sol = diagonalization(m)\n",
    "\n",
    "print('x1:',sol[0][3])\n",
    "print('x2:',sol[1][3])\n",
    "print('x3:',sol[2][3])"
   ]
  },
  {
   "cell_type": "markdown",
   "metadata": {},
   "source": [
    "#### a) Estudo da estabilidade interna para $\\delta_A = \\delta_b = 0.3$"
   ]
  },
  {
   "cell_type": "markdown",
   "metadata": {},
   "source": [
    "Fazendo os calculos no maxima temos a seguinte solução:\n",
    "\n",
    "$$\\begin{cases}\\delta_x = 0.27121 \\\\ \\delta_y = 0.21786 \\\\ \\delta_z = -0.10226 \\end{cases}$$"
   ]
  },
  {
   "cell_type": "markdown",
   "metadata": {},
   "source": [
    "#### b) Estudo da estabilidade interna"
   ]
  },
  {
   "cell_type": "markdown",
   "metadata": {},
   "source": [
    "Fazendo os calculos no maxima temos a seguinte solução:\n",
    "\n",
    "$$\\begin{cases}\\delta_x = -2.341\\mathrm{e}{-6} \\\\ \\delta_y = -3.028\\mathrm{e}{-6} \\\\ \\delta_z = 2.84987\\mathrm{e}{-6} \\end{cases}$$"
   ]
  },
  {
   "cell_type": "markdown",
   "metadata": {},
   "source": [
    "#### 2- Resolver o sistema utilizando os métodos iterativos de Gauss-Jacobi e Gauss-Seidel\n",
    "\n",
    "$$\\begin{cases}-2x-6y-z=-38 \\\\ -3x-y+7z=-34 \\\\ -8x+y-2z=-20 \\end{cases}$$"
   ]
  },
  {
   "cell_type": "markdown",
   "metadata": {},
   "source": [
    "###### Gauss-Jacobi\n",
    "    \n",
    "Basicamente é o método de Picard-Peano\n",
    "a regra é definida por recursão:\n",
    "    \n",
    "o novo Xj é dado por:\n",
    "    $$X_j = (b_j - (A_j[0] * x[0] + A_j[1] * x[1] + A_j[2] * x[2])) / A[j][j]$$\n",
    "    \n",
    "sendo que j é o indice da linha da matriz"
   ]
  },
  {
   "cell_type": "code",
   "execution_count": 3,
   "metadata": {},
   "outputs": [],
   "source": [
    "def gaussJacobi(A, b, N=25, x=[0,0,0]):\n",
    "    for i in range(N):\n",
    "        aux = []\n",
    "        for i in range(len(A[0])):\n",
    "            sigma = 0\n",
    "            for j in range(len(A[0])):\n",
    "                if j!=i:\n",
    "                    sigma += A[i][j]*x[j]\n",
    "            sigma = (b[i]-sigma)/A[i][i]\n",
    "            aux.append(sigma)\n",
    "        x = [k for k in aux]\n",
    "        \n",
    "    return x"
   ]
  },
  {
   "cell_type": "code",
   "execution_count": 4,
   "metadata": {},
   "outputs": [
    {
     "data": {
      "text/plain": [
       "[-2.5707445681458657e+18, 4.321802932350301e+18, 2.2779092292201482e+18]"
      ]
     },
     "execution_count": 4,
     "metadata": {},
     "output_type": "execute_result"
    }
   ],
   "source": [
    "matA = [[-2,-6,-1],\n",
    "        [-3,-1,7],\n",
    "        [-8,1,-2]]\n",
    "\n",
    "colb = [-38,-34,-20]\n",
    "\n",
    "matrixA = [[3,1,1],\n",
    "           [1,4,2],\n",
    "           [0,2,5]]\n",
    "colB = [7,4,5]\n",
    "\n",
    "gaussJacobi(matA,colb)"
   ]
  },
  {
   "cell_type": "code",
   "execution_count": 5,
   "metadata": {},
   "outputs": [
    {
     "data": {
      "text/plain": [
       "[7.647178586205574e+31, -4.128835090417856e+32, -5.123288979691158e+32]"
      ]
     },
     "execution_count": 5,
     "metadata": {},
     "output_type": "execute_result"
    }
   ],
   "source": [
    "def gaussSeidel(A, b, N=25, x=[0,0,0]):\n",
    "    for i in range(N):\n",
    "        for j in range(len(A[0])):\n",
    "            x1 = (b[j] - (A[j][0] * x[0] + A[j][1] * x[1] + A[j][2] * x[2])) / A[j][j]\n",
    "            x[j] += x1\n",
    "    return x\n",
    "\n",
    "gaussSeidel(matA,colb)"
   ]
  },
  {
   "cell_type": "markdown",
   "metadata": {},
   "source": [
    "Estranho - as soluções não convergem.\n",
    "Adiante"
   ]
  },
  {
   "cell_type": "markdown",
   "metadata": {},
   "source": [
    "#### 3- Quadratura\n",
    "\n",
    "\n",
    "$$ \\int_{0}^{4} (1-e^{-x}) dx $$\n",
    "\n",
    "\n",
    "###### Resolver o integral utilizando a regra dos trapézios com (n=4)"
   ]
  },
  {
   "cell_type": "code",
   "execution_count": 6,
   "metadata": {},
   "outputs": [],
   "source": [
    "from math import exp\n",
    "\n",
    "def func3(x):\n",
    "    return 1-exp(-x)\n",
    "\n",
    "def trapRule(x0,xf,func,N=4):\n",
    "    res = 0\n",
    "    h = abs(xf-x0)/N\n",
    "    x = x0 + h\n",
    "    for i in range(N-1):\n",
    "        res += func(x)\n",
    "        x += h\n",
    "    return h*(func(x0)+func(xf)+2*res)/2.0"
   ]
  },
  {
   "cell_type": "code",
   "execution_count": 10,
   "metadata": {},
   "outputs": [
    {
     "name": "stdout",
     "output_type": "stream",
     "text": [
      "res: 2.9378403877797137\n",
      "erro rel. (%): 2.6662304655006013\n"
     ]
    }
   ],
   "source": [
    "res5a = trapRule(0,4,func3,N=4)\n",
    "print(\"res:\",res5a)\n",
    "print(\"erro rel. (%):\",(exp(-4)+3 - res5a)*100/(exp(-4)+3))"
   ]
  },
  {
   "cell_type": "markdown",
   "metadata": {},
   "source": [
    "###### Resolver o integral utilizando a regra de Simpson com (n=4)"
   ]
  },
  {
   "cell_type": "code",
   "execution_count": 13,
   "metadata": {},
   "outputs": [
    {
     "name": "stdout",
     "output_type": "stream",
     "text": [
      "res: 3.0179846613217176\n",
      "erro rel. (%): 0.010965638011883602\n"
     ]
    }
   ],
   "source": [
    "def simpsonRule(x0,xf,func,N=4):\n",
    "    res = 0\n",
    "    N *= 2\n",
    "    h = (xf-x0)/N\n",
    "    x = x0 + h\n",
    "    \n",
    "    for i in range(1,N,2):\n",
    "        res += 4*func(x)\n",
    "        x += h*2\n",
    "    \n",
    "    x = x0 + 2*h\n",
    "    \n",
    "    for i in range(2,N,2):\n",
    "        res += 2*func(x)\n",
    "        x += h*2\n",
    "        \n",
    "    return h * (func(x0) + func(xf) + res) / 3.0\n",
    "\n",
    "res5b = simpsonRule(0,4,func3,N=4)\n",
    "print(\"res:\",res5b)\n",
    "print(\"erro rel. (%):\",(exp(-4)+3 - res5b)*100/(exp(-4)+3))"
   ]
  },
  {
   "cell_type": "markdown",
   "metadata": {},
   "source": [
    "###### Quociente de convergência e estimativa do erro para o resultado obtido em cada um dos métodos\n",
    "\n",
    "$$ QC = \\frac{S''-S}{S''-S'} $$\n",
    "\n",
    "$$ ErroAbs_{estimado} = \\frac{S''-S'}{QC-1} $$\n",
    "\n",
    "$$ ErroRel_{estimado} = \\frac{ErroAbs_{estimado}}{S''} $$"
   ]
  },
  {
   "cell_type": "code",
   "execution_count": 14,
   "metadata": {},
   "outputs": [
    {
     "name": "stdout",
     "output_type": "stream",
     "text": [
      "Method: trapRule\n",
      "Order: 2.22\n",
      "QC: 4.939087258280466\n",
      "ErroAbs: 0.0038738478323816854\n",
      "ErroRel: 0.0012856224362171802 \n",
      "\n",
      "Method: simpsonRule\n",
      "Order: 4.08\n",
      "QC: 16.634286227456286\n",
      "ErroAbs: 1.267561192808902e-06\n",
      "ErroRel: 4.199566588096143e-07 \n",
      "\n"
     ]
    },
    {
     "data": {
      "text/plain": [
       "16.634286227456286"
      ]
     },
     "execution_count": 14,
     "metadata": {},
     "output_type": "execute_result"
    }
   ],
   "source": [
    "from math import sqrt\n",
    "\n",
    "def QC(x0,x1,func,method,N=4):\n",
    "    S = method(x0,x1,func,N)\n",
    "    S1 = method(x0,x1,func,N*2)\n",
    "    S2 = method(x0,x1,func,N*4)\n",
    "    \n",
    "    qc = (S2-S)/(S2-S1)\n",
    "    \n",
    "    \n",
    "    print(\"Method:\", method.__name__)\n",
    "    print(\"Order:\",round(sqrt(qc),2))\n",
    "    print(\"QC:\",qc)\n",
    "    print(\"ErroAbs:\",(S2-S1)/(qc-1))\n",
    "    print(\"ErroRel:\",((S2-S1)/(qc-1))/S2,\"\\n\")\n",
    "    \n",
    "    return qc\n",
    "\n",
    "QC(0,4,func3,trapRule,N=4)\n",
    "QC(0,4,func3,simpsonRule,N=4)\n",
    "    "
   ]
  },
  {
   "cell_type": "markdown",
   "metadata": {},
   "source": [
    "###### O passo é adequado?\n",
    "\n",
    "Diria que sim, uma vez que a ordem do método dos trapézios é 2 e obtivemos 2.2, e a ordem do método de Simpson é 4 e obtivemos 4.08, podemos, no entanto diminuir o incremento, aumentando o n para obter melhores resultados.\n",
    "\n",
    "Para $N=10$:"
   ]
  },
  {
   "cell_type": "code",
   "execution_count": 15,
   "metadata": {},
   "outputs": [
    {
     "name": "stdout",
     "output_type": "stream",
     "text": [
      "Method: trapRule\n",
      "Order: 2.23\n",
      "QC: 4.9900414979073116\n",
      "ErroAbs: 0.000614571996662138\n",
      "ErroRel: 0.0002036694164386855 \n",
      "\n",
      "Method: simpsonRule\n",
      "Order: 4.12\n",
      "QC: 16.94024274459207\n",
      "ErroAbs: 3.2035616260418413e-08\n",
      "ErroRel: 1.061373973263054e-08 \n",
      "\n"
     ]
    },
    {
     "data": {
      "text/plain": [
       "16.94024274459207"
      ]
     },
     "execution_count": 15,
     "metadata": {},
     "output_type": "execute_result"
    }
   ],
   "source": [
    "QC(0,4,func3,trapRule,N=10)\n",
    "QC(0,4,func3,simpsonRule,N=10)"
   ]
  },
  {
   "cell_type": "markdown",
   "metadata": {},
   "source": [
    "Como podemos ver, o quociente de convergencia em ambos os métodos aumentou ligeiramente, e o erro diminiu."
   ]
  },
  {
   "cell_type": "markdown",
   "metadata": {},
   "source": [
    "#### EDO's\n",
    "\n",
    "Dada a equação diferencial ordinária de 1ª ordem, que se pretende integrar através da aplicação de um método\n",
    "numérico no intervalo $t ∈ [0, 4]$, com um passo de integração $h=1$ e para os valores iniciais: $t_0 = 0$ e $y_0 = 2$. \n",
    "\n",
    "$$ y'=4e^{0.8t}-0.5y$$"
   ]
  },
  {
   "cell_type": "code",
   "execution_count": 16,
   "metadata": {},
   "outputs": [],
   "source": [
    "def func4(t,y):\n",
    "    return 4*exp(0.8*t)-0.5*y"
   ]
  },
  {
   "cell_type": "markdown",
   "metadata": {},
   "source": [
    "###### a) Use o método de Euler para obter o resultado numérico da integração. "
   ]
  },
  {
   "cell_type": "code",
   "execution_count": 17,
   "metadata": {},
   "outputs": [
    {
     "name": "stdout",
     "output_type": "stream",
     "text": [
      "t \t      y \n",
      "--------------------------\n",
      "0 \t 2\n",
      "1 \t 9.902163713969871\n",
      "2 \t 24.763211554565395\n",
      "3 \t 56.47431129984912\n",
      "4 \t 126.36727643836197\n"
     ]
    },
    {
     "data": {
      "text/plain": [
       "Text(0.5, 1.0, \"Euler's method (h=1.000)\")"
      ]
     },
     "execution_count": 17,
     "metadata": {},
     "output_type": "execute_result"
    },
    {
     "data": {
      "image/png": "[encoded data removed]",
      "text/plain": [
       "<Figure size 432x288 with 1 Axes>"
      ]
     },
     "metadata": {
      "needs_background": "light"
     },
     "output_type": "display_data"
    }
   ],
   "source": [
    "from matplotlib import pyplot as plt\n",
    "\n",
    "def euler(deltaxn, f, t, y, bound):\n",
    "    t_list = [t]\n",
    "    y_list = [y]\n",
    "    \n",
    "    while t < bound:\n",
    "        t += deltaxn\n",
    "        y += deltaxn*f(t,y)\n",
    "        y_list.append(y)\n",
    "        t_list.append(t)\n",
    "    return (t_list, y_list)\n",
    "\n",
    "h = 1\n",
    "(t,y) = euler(h,func4,0,2,4)\n",
    "\n",
    "print(\"t\",\"\\t      y\",\"\\n--------------------------\")\n",
    "for i,c in enumerate(t):\n",
    "    print(c,'\\t',y[i])\n",
    "\n",
    "\n",
    "plt.plot(t,y)\n",
    "plt.ylabel('y')\n",
    "plt.xlabel('t')\n",
    "plt.title(\"Euler's method (h=%.03f)\" % h)"
   ]
  },
  {
   "cell_type": "markdown",
   "metadata": {},
   "source": [
    "###### b) Use o método de Runga-Kutta de 2ª Ordem para obter o resultado numérico da integração. "
   ]
  },
  {
   "cell_type": "code",
   "execution_count": 20,
   "metadata": {},
   "outputs": [
    {
     "name": "stdout",
     "output_type": "stream",
     "text": [
      "t \t      y \n",
      "--------------------------\n",
      "0 \t 2\n",
      "1 \t 5.467298790565081\n",
      "2 \t 12.929859926885069\n",
      "3 \t 29.347554492096172\n",
      "4 \t 65.74290019217713\n"
     ]
    },
    {
     "data": {
      "text/plain": [
       "Text(0.5, 1.0, \"RK2's method (h=1.000)\")"
      ]
     },
     "execution_count": 20,
     "metadata": {},
     "output_type": "execute_result"
    },
    {
     "data": {
      "image/png": "[encoded data removed]",
      "text/plain": [
       "<Figure size 432x288 with 1 Axes>"
      ]
     },
     "metadata": {
      "needs_background": "light"
     },
     "output_type": "display_data"
    }
   ],
   "source": [
    "def rungeKutta2(deltaxn,f,t,y,bound):\n",
    "    t_list = [t]\n",
    "    y_list = [y]\n",
    "    \n",
    "    h = (t+bound)/2.0\n",
    "    \n",
    "    while t < bound:\n",
    "        yln=f(t,y)\n",
    "        deltayn=f(t+deltaxn/2.0, y+h*yln/2.0)*deltaxn\n",
    "        t += deltaxn\n",
    "        y += deltayn\n",
    "        t_list.append(t)\n",
    "        y_list.append(y)\n",
    "        \n",
    "    return (t_list, y_list)\n",
    "\n",
    "h = 1\n",
    "(t,y) = rungeKutta2(h,func4,0,2,4)\n",
    "\n",
    "print(\"t\",\"\\t      y\",\"\\n--------------------------\")\n",
    "for i,c in enumerate(t):\n",
    "    print(c,'\\t',y[i])\n",
    "\n",
    "\n",
    "plt.plot(t,y)\n",
    "plt.ylabel('y')\n",
    "plt.xlabel('t')\n",
    "plt.title(\"RK2's method (h=%.03f)\" % h)"
   ]
  }
 ],
 "metadata": {
  "kernelspec": {
   "display_name": "Python 3",
   "language": "python",
   "name": "python3"
  },
  "language_info": {
   "codemirror_mode": {
    "name": "ipython",
    "version": 3
   },
   "file_extension": ".py",
   "mimetype": "text/x-python",
   "name": "python",
   "nbconvert_exporter": "python",
   "pygments_lexer": "ipython3",
   "version": "3.7.4"
  }
 },
 "nbformat": 4,
 "nbformat_minor": 2
}
