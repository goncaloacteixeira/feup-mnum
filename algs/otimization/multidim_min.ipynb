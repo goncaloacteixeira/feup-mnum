{
 "cells": [
  {
   "cell_type": "markdown",
   "metadata": {},
   "source": [
    "# Minimização Multidimensional\n",
    "\n",
    "\n",
    "$$f(x,y)=xy$$\n",
    "\n",
    "$$\\overline{X_{n+1}} = \\overline{X_n} - \\nabla f_{xn}\\lambda$$"
   ]
  },
  {
   "cell_type": "code",
   "execution_count": 3,
   "metadata": {},
   "outputs": [],
   "source": [
    "def func1(x,y):\n",
    "    return x*y\n",
    "\n",
    "def dfx1(x,y):\n",
    "    return y\n",
    "\n",
    "def dfy1(x,y):\n",
    "    return x"
   ]
  },
  {
   "cell_type": "code",
   "execution_count": 41,
   "metadata": {},
   "outputs": [],
   "source": [
    "def gradient(x0,y0,xf,yf,h0,f,dfx,dfy,N=20,info=True):\n",
    "    x = x0\n",
    "    y = y0\n",
    "    h = h0\n",
    "    \n",
    "    x_list = [x]\n",
    "    y_list = [y]\n",
    "    \n",
    "    if info:\n",
    "        print(\"\\niteration 0\")\n",
    "        print(\"x:\",x)\n",
    "        print(\"y:\",y)\n",
    "        print(\"f(x,y):\",f(x,y))\n",
    "    \n",
    "    for i in range(1,N+1):\n",
    "        xn = x - dfx(x,y)*h\n",
    "        yn = y - dfy(x,y)*h\n",
    "        \n",
    "        if (f(xn,yn)<f(x,y)):\n",
    "            h *= 2\n",
    "            x = xn\n",
    "            y = yn\n",
    "            x_list.append(x)\n",
    "            y_list.append(y)\n",
    "            if info:\n",
    "                print(\"\\niteration\",i)\n",
    "                print(\"x:\",x)\n",
    "                print(\"y:\",y)\n",
    "                print(\"f(x,y):\",f(x,y))\n",
    "        else:\n",
    "            h /= 2\n",
    "            \n",
    "        if x>xf and y>yf:\n",
    "            break\n",
    "        \n",
    "    return (x,y)\n",
    "    "
   ]
  },
  {
   "cell_type": "code",
   "execution_count": 49,
   "metadata": {},
   "outputs": [
    {
     "name": "stdout",
     "output_type": "stream",
     "text": [
      "\n",
      "iteration 0\n",
      "x: -5\n",
      "y: -5\n",
      "f(x,y): 25\n",
      "\n",
      "iteration 1\n",
      "x: -4.95\n",
      "y: -4.95\n",
      "f(x,y): 24.5025\n",
      "\n",
      "iteration 2\n",
      "x: -4.851\n",
      "y: -4.851\n",
      "f(x,y): 23.532201\n",
      "\n",
      "iteration 3\n",
      "x: -4.65696\n",
      "y: -4.65696\n",
      "f(x,y): 21.687276441599998\n",
      "\n",
      "iteration 4\n",
      "x: -4.2844032\n",
      "y: -4.2844032\n",
      "f(x,y): 18.356110780170237\n",
      "\n",
      "iteration 5\n",
      "x: -3.598898688\n",
      "y: -3.598898688\n",
      "f(x,y): 12.95207176648812\n",
      "\n",
      "iteration 6\n",
      "x: -2.4472511078399997\n",
      "y: -2.4472511078399997\n",
      "f(x,y): 5.9890379848241055\n",
      "\n",
      "iteration 7\n",
      "x: -0.8810103988223998\n",
      "y: -0.8810103988223998\n",
      "f(x,y): 0.776179322833204\n",
      "\n",
      "iteration 8\n",
      "x: 0.246682911670272\n",
      "y: 0.246682911670272\n",
      "f(x,y): 0.060852458910123225\n",
      "\n",
      "iteration 10\n",
      "x: -0.06907121526767618\n",
      "y: -0.06907121526767618\n",
      "f(x,y): 0.0047708327785536625\n"
     ]
    },
    {
     "data": {
      "text/plain": [
       "(-0.06907121526767618, -0.06907121526767618)"
      ]
     },
     "execution_count": 49,
     "metadata": {},
     "output_type": "execute_result"
    }
   ],
   "source": [
    "gradient(-5,-5,5,5,0.01,func1,dfx1,dfy1,info=True,N=10)\n"
   ]
  },
  {
   "cell_type": "markdown",
   "metadata": {},
   "source": [
    "Como podemos ver a função tem vindo a decrescer.  \n",
    "Num intervalo com $-5<x<5$ e $-5<y<5$,  \n",
    "com um passo inicial de $h=0.01$ e 10 iterações:\n",
    "\n",
    "o mínimo da função está em $(-0.06907, -0.06907)$."
   ]
  }
 ],
 "metadata": {
  "kernelspec": {
   "display_name": "Python 3",
   "language": "python",
   "name": "python3"
  },
  "language_info": {
   "codemirror_mode": {
    "name": "ipython",
    "version": 3
   },
   "file_extension": ".py",
   "mimetype": "text/x-python",
   "name": "python",
   "nbconvert_exporter": "python",
   "pygments_lexer": "ipython3",
   "version": "3.7.4"
  }
 },
 "nbformat": 4,
 "nbformat_minor": 2
}
