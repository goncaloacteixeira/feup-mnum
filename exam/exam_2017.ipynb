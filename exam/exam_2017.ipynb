{
 "cells": [
  {
   "cell_type": "markdown",
   "metadata": {},
   "source": [
    "# 1. Minimização\n",
    "\n",
    "Pretende-se minimizar a seguinte função:\n",
    "\n",
    "$$ y = f(x) = (x-2)^2+x^4 $$\n",
    "\n",
    "**Pesquisa unidimensional**\n",
    "- Método dos terços\n",
    "- Secção Aurea\n",
    "- Método da interpolação quadrática\n",
    "\n",
    "**Pesquisa multidimensional**\n",
    "- Método de Powell\n",
    "- Método do gradiente\n",
    "- Método da quadrática"
   ]
  },
  {
   "cell_type": "markdown",
   "metadata": {},
   "source": [
    "## Calcular minimo de uma função utilizando um guess\n",
    "\n",
    "-> start com guess\n",
    "\n",
    "1. pesquisa para enquadrar num intervalo\n",
    "    - (esq. ou dir.)\n",
    "    - passo constante ou variavel  \n",
    "2. redução intervalar\n",
    "    - terços\n",
    "    - secção aurea  \n",
    "3. ajuste da quádrica"
   ]
  },
  {
   "cell_type": "code",
   "execution_count": 1,
   "metadata": {},
   "outputs": [],
   "source": [
    "def function1(x):\n",
    "    return (x-2)**2+x**4"
   ]
  },
  {
   "cell_type": "code",
   "execution_count": 2,
   "metadata": {},
   "outputs": [
    {
     "name": "stdout",
     "output_type": "stream",
     "text": [
      "[0.8400000000000005, 0.8500000000000005]\n"
     ]
    }
   ],
   "source": [
    "def sequentialSearch(x0,func,h=1):\n",
    "    a = x0\n",
    "    b = a + h\n",
    "    while func(a) > func(b):\n",
    "        a += h\n",
    "        b += h\n",
    "    return [a,b]\n",
    "\n",
    "int = sequentialSearch(0,function1,0.01)\n",
    "print(int)"
   ]
  },
  {
   "cell_type": "markdown",
   "metadata": {},
   "source": [
    "Ficamos a saber que o minimo está entre 0.84 e 0.85"
   ]
  },
  {
   "cell_type": "markdown",
   "metadata": {},
   "source": [
    "Passando agora à redução intervalar utilizando os dois métodos:"
   ]
  },
  {
   "cell_type": "code",
   "execution_count": 3,
   "metadata": {},
   "outputs": [
    {
     "name": "stdout",
     "output_type": "stream",
     "text": [
      "Intervalo com terços (prec = 0.01): [0.8400000000000005, 0.8466666666666672]\n",
      "Intervalo com s.aurea (prec = 0.01): [0.8461803398874995, 0.8500000000000005]\n"
     ]
    }
   ],
   "source": [
    "# Método dos Terços\n",
    "\n",
    "def tercos(interval, f, prec = 0.0001):\n",
    "    a = interval[0]\n",
    "    b = interval[1]\n",
    "    while abs(b-a) > prec:\n",
    "        c = a + (b-a)/3.0\n",
    "        d = b - (b-a)/3.0\n",
    "        if f(c) < f(d):\n",
    "            b = d\n",
    "        else:\n",
    "            a = c\n",
    "    return [a,b]\n",
    "\n",
    "\n",
    "# Método da secção aurea\n",
    "from math import sqrt\n",
    "\n",
    "def aureaSec(rangeVal, f, prec=0.1):\n",
    "    # B = proporção\n",
    "    B = (sqrt(5) - 1) / 2\n",
    "\n",
    "    a = rangeVal[0]\n",
    "    b = rangeVal[1]\n",
    "\n",
    "    c = a + (b - a) * B\n",
    "    d = b - (b - a) * B\n",
    "\n",
    "    fc = f(c)\n",
    "    fd = f(d)\n",
    "\n",
    "    while abs(b - a) > prec:\n",
    "        if fc < fd:\n",
    "            b = d\n",
    "            d = c\n",
    "            fd = fc\n",
    "            c = a + B * (b - a)\n",
    "            fc = f(c)\n",
    "        else:\n",
    "            a = c\n",
    "            c = d\n",
    "            fc = fd\n",
    "            d = b - B * (b - a)\n",
    "            fd = f(d)\n",
    "\n",
    "    return [a, b]\n",
    "\n",
    "int_ter = tercos(int,function1,0.01)\n",
    "int_sa = aureaSec(int,function1,0.01)\n",
    "\n",
    "print(\"Intervalo com terços (prec = 0.01):\",int_ter)\n",
    "print(\"Intervalo com s.aurea (prec = 0.01):\",int_sa)"
   ]
  },
  {
   "cell_type": "markdown",
   "metadata": {},
   "source": [
    "Agora façamos um ajuste da quadrática para obter o minimo"
   ]
  },
  {
   "cell_type": "code",
   "execution_count": 4,
   "metadata": {},
   "outputs": [
    {
     "name": "stdout",
     "output_type": "stream",
     "text": [
      "Min (terços): 0.8514833018671916\n",
      "Min (s.aurea): 0.8608989841010513\n"
     ]
    }
   ],
   "source": [
    "def quadAdjust(points, f):\n",
    "    x1 = points[0]\n",
    "    x3 = points[1]\n",
    "    x2 = (x1 + x3) / 2.0\n",
    "\n",
    "    h = x2 - x1\n",
    "\n",
    "    return x2 - (h * (f(x1) - f(x3))) / (2 * (f(x1) - 2 * f(x2) + f(x3)))\n",
    "\n",
    "min_ter = quadAdjust(int_ter, function1)\n",
    "min_sa = quadAdjust(int_sa, function1)\n",
    "\n",
    "print(\"Min (terços):\",min_ter)\n",
    "print(\"Min (s.aurea):\",min_sa)"
   ]
  },
  {
   "cell_type": "markdown",
   "metadata": {},
   "source": [
    "# 2. Integração\n",
    "\n",
    "O comprimento L do arco de uma curva de equação $ y = f(x) $ entre as abcissas $x=a$ e $x=b$ é dado por \n",
    "\n",
    "$$ L = \\int_{a}^{b} \\sqrt{1+(y')^2} dx $$\n",
    "\n",
    "Pretende-se determinar o comprimento da curva $ y=e^{kx}$ ente $ x = a $ e $x = b$, recorrendo aos métodos de **Simpson** e dos **Trapézios**.\n",
    "\n",
    "Partindo dos seguintes dados:\n",
    "$$ k = 2.5 $$\n",
    "$$ a = 0 $$\n",
    "$$ b = 1 $$\n",
    "$$ h = 0.125 $$"
   ]
  },
  {
   "cell_type": "markdown",
   "metadata": {},
   "source": [
    "Antes de mais, devemos calcular a derivada, $ (e^{kx})' = ke^{x} $, portanto:"
   ]
  },
  {
   "cell_type": "code",
   "execution_count": 5,
   "metadata": {},
   "outputs": [],
   "source": [
    "from math import sqrt, exp\n",
    "\n",
    "def func(x):\n",
    "    return sqrt(1+(2.5*exp(x*2.5))**2)"
   ]
  },
  {
   "cell_type": "code",
   "execution_count": 6,
   "metadata": {},
   "outputs": [
    {
     "ename": "TypeError",
     "evalue": "'list' object is not callable",
     "output_type": "error",
     "traceback": [
      "\u001b[1;31m---------------------------------------------------------------------------\u001b[0m",
      "\u001b[1;31mTypeError\u001b[0m                                 Traceback (most recent call last)",
      "\u001b[1;32m<ipython-input-6-6fb546770666>\u001b[0m in \u001b[0;36m<module>\u001b[1;34m\u001b[0m\n\u001b[0;32m     22\u001b[0m     \u001b[1;32mreturn\u001b[0m \u001b[0mh\u001b[0m\u001b[1;33m*\u001b[0m\u001b[1;33m(\u001b[0m\u001b[0mf\u001b[0m\u001b[1;33m(\u001b[0m\u001b[0mx0\u001b[0m\u001b[1;33m)\u001b[0m\u001b[1;33m+\u001b[0m\u001b[0mf\u001b[0m\u001b[1;33m(\u001b[0m\u001b[0mx1\u001b[0m\u001b[1;33m)\u001b[0m\u001b[1;33m+\u001b[0m\u001b[0mres\u001b[0m\u001b[1;33m)\u001b[0m\u001b[1;33m/\u001b[0m\u001b[1;36m3\u001b[0m\u001b[1;33m\u001b[0m\u001b[1;33m\u001b[0m\u001b[0m\n\u001b[0;32m     23\u001b[0m \u001b[1;33m\u001b[0m\u001b[0m\n\u001b[1;32m---> 24\u001b[1;33m \u001b[0mtrap\u001b[0m \u001b[1;33m=\u001b[0m \u001b[0mtrapRule\u001b[0m\u001b[1;33m(\u001b[0m\u001b[1;36m0\u001b[0m\u001b[1;33m,\u001b[0m\u001b[1;36m1\u001b[0m\u001b[1;33m,\u001b[0m\u001b[0mfunc\u001b[0m\u001b[1;33m)\u001b[0m\u001b[1;33m\u001b[0m\u001b[1;33m\u001b[0m\u001b[0m\n\u001b[0m\u001b[0;32m     25\u001b[0m \u001b[0msimp\u001b[0m \u001b[1;33m=\u001b[0m \u001b[0msimpsonRule\u001b[0m\u001b[1;33m(\u001b[0m\u001b[1;36m0\u001b[0m\u001b[1;33m,\u001b[0m\u001b[1;36m1\u001b[0m\u001b[1;33m,\u001b[0m\u001b[0mfunc\u001b[0m\u001b[1;33m)\u001b[0m\u001b[1;33m\u001b[0m\u001b[1;33m\u001b[0m\u001b[0m\n\u001b[0;32m     26\u001b[0m \u001b[1;33m\u001b[0m\u001b[0m\n",
      "\u001b[1;32m<ipython-input-6-6fb546770666>\u001b[0m in \u001b[0;36mtrapRule\u001b[1;34m(x0, x1, f, h)\u001b[0m\n\u001b[0;32m      1\u001b[0m \u001b[1;32mdef\u001b[0m \u001b[0mtrapRule\u001b[0m\u001b[1;33m(\u001b[0m\u001b[0mx0\u001b[0m\u001b[1;33m,\u001b[0m\u001b[0mx1\u001b[0m\u001b[1;33m,\u001b[0m\u001b[0mf\u001b[0m\u001b[1;33m,\u001b[0m\u001b[0mh\u001b[0m\u001b[1;33m=\u001b[0m\u001b[1;36m0.125\u001b[0m\u001b[1;33m)\u001b[0m\u001b[1;33m:\u001b[0m\u001b[1;33m\u001b[0m\u001b[1;33m\u001b[0m\u001b[0m\n\u001b[1;32m----> 2\u001b[1;33m     \u001b[0mN\u001b[0m \u001b[1;33m=\u001b[0m \u001b[0mint\u001b[0m\u001b[1;33m(\u001b[0m\u001b[1;33m(\u001b[0m\u001b[0mx1\u001b[0m\u001b[1;33m-\u001b[0m\u001b[0mx0\u001b[0m\u001b[1;33m)\u001b[0m\u001b[1;33m/\u001b[0m\u001b[0mh\u001b[0m\u001b[1;33m)\u001b[0m\u001b[1;33m\u001b[0m\u001b[1;33m\u001b[0m\u001b[0m\n\u001b[0m\u001b[0;32m      3\u001b[0m     \u001b[0mx\u001b[0m \u001b[1;33m=\u001b[0m \u001b[0mx0\u001b[0m \u001b[1;33m+\u001b[0m \u001b[0mh\u001b[0m\u001b[1;33m\u001b[0m\u001b[1;33m\u001b[0m\u001b[0m\n\u001b[0;32m      4\u001b[0m     \u001b[0mres\u001b[0m \u001b[1;33m=\u001b[0m \u001b[1;36m0\u001b[0m\u001b[1;33m\u001b[0m\u001b[1;33m\u001b[0m\u001b[0m\n\u001b[0;32m      5\u001b[0m     \u001b[1;32mfor\u001b[0m \u001b[0mi\u001b[0m \u001b[1;32min\u001b[0m \u001b[0mrange\u001b[0m\u001b[1;33m(\u001b[0m\u001b[0mN\u001b[0m\u001b[1;33m-\u001b[0m\u001b[1;36m1\u001b[0m\u001b[1;33m)\u001b[0m\u001b[1;33m:\u001b[0m\u001b[1;33m\u001b[0m\u001b[1;33m\u001b[0m\u001b[0m\n",
      "\u001b[1;31mTypeError\u001b[0m: 'list' object is not callable"
     ]
    }
   ],
   "source": [
    "def trapRule(x0,x1,f,h=0.125):\n",
    "    N = int((x1-x0)/h)\n",
    "    x = x0 + h\n",
    "    res = 0\n",
    "    for i in range(N-1):\n",
    "        res += f(x)\n",
    "        x += h\n",
    "    return h*(f(x0)+f(x1)+2*res)/2\n",
    "\n",
    "\n",
    "def simpsonRule(x0,x1,f,h=0.125):\n",
    "    res = 0\n",
    "    N = int((x1-x0)/h)\n",
    "    x = x0 +h\n",
    "    for i in range(1,N):\n",
    "        if i % 2 == 0:\n",
    "            res += 2*f(x)\n",
    "        else:\n",
    "            res += 4*f(x)\n",
    "        x += h\n",
    "    \n",
    "    return h*(f(x0)+f(x1)+res)/3\n",
    "\n",
    "trap = trapRule(0,1,func)\n",
    "simp = simpsonRule(0,1,func)\n",
    "\n",
    "print(\"Trap:\",trap)\n",
    "print(\"Simp:\",simp)"
   ]
  },
  {
   "cell_type": "code",
   "execution_count": null,
   "metadata": {},
   "outputs": [],
   "source": [
    "def qc(x0,x1,f,h,method):\n",
    "    s = method(x0,x1,f,h)\n",
    "    s1 = method(x0,x1,f,h/2)\n",
    "    s2 = method(x0,x1,f,h/4)\n",
    "    \n",
    "    print(\"Method:\",method.__name__)\n",
    "    print(\"h=%.05f: %.05f\" % (h,s))\n",
    "    print(\"h=%.05f: %.05f\" % (h/2,s1))\n",
    "    print(\"h=%.05f: %.05f\" % (h/4,s2))\n",
    "    \n",
    "    conv = (s1 - s) / (s2 - s1)\n",
    "    order = round(sqrt(conv))\n",
    "    error = (s2-s1)/(order**2 - 1)\n",
    "    print(\"QC:\",conv)\n",
    "    print(\"Order:\",order)\n",
    "    print(\"Rel. Error: %0.05f\\n\" % error)\n",
    "    \n",
    "qc(0,1,func,0.125,trapRule)\n",
    "qc(0,1,func,0.125,simpsonRule)\n",
    "    "
   ]
  },
  {
   "cell_type": "markdown",
   "metadata": {},
   "source": [
    "# 3. Zeros de Funções Reais\n",
    "\n",
    "Pretendemos resolver a seguinte equação numericamente:\n",
    "\n",
    "$$ e^{x} - x - 5 = 0 $$\n",
    "\n",
    "Com as seguintes formulas de recorrencia para Picard-Peano:\n",
    "\n",
    "$$ (1) x_{n+1} = e^{x_n}-5 \\\\ (2) x_{n+1} = ln(5+x_n) $$"
   ]
  },
  {
   "cell_type": "code",
   "execution_count": null,
   "metadata": {},
   "outputs": [],
   "source": [
    "import matplotlib.pyplot as plt\n",
    "from math import log, exp\n",
    "from numpy import arange\n",
    "\n",
    "def func3(x):\n",
    "    return exp(x)-x-5\n",
    "\n",
    "x_list = [i for i in arange(-6,4,0.1)]\n",
    "y_list = [func3(i) for i in arange(-6,4,0.1)]\n",
    "\n",
    "plt.plot(x_list,y_list)\n",
    "plt.axhline(0, color='black')"
   ]
  },
  {
   "cell_type": "markdown",
   "metadata": {},
   "source": [
    "Como podemos ver com o gráfico, a função tem 2 zeros, um no intervalo $[-6,-4]$ e outro no intervalo $[1,3]$.\n",
    "\n",
    "A primeira formula de recorrencia vai dar-nos a raiz negativa, uma vez que a derivada nesse intervalo é inferior a 1. Pela mesma razão a segunda formula vai dar-nos a raiz positiva."
   ]
  },
  {
   "cell_type": "markdown",
   "metadata": {},
   "source": [
    "## Picard-Peano\n",
    "\n",
    "Podemos utilizar a precisão absoluta como critério de paragem, sendo assim, a formula é sempre a mesma.\n",
    "\n",
    "Para calcular a maior raiz:"
   ]
  },
  {
   "cell_type": "code",
   "execution_count": null,
   "metadata": {},
   "outputs": [],
   "source": [
    "def rec1Func3(x):\n",
    "    return exp(x) - 5\n",
    "\n",
    "def rec2Func3(x):\n",
    "    return log(5+x)\n",
    "\n",
    "\n",
    "def picardPeano(guess, rec, iterations=10):\n",
    "    # print(\"Iteration 0: %.05f\" % guess)\n",
    "    res = [guess]\n",
    "    for i in range(1,iterations):\n",
    "        guess = rec(guess)\n",
    "        # print(\"Iteration %d: %.05f\" % (i,guess))\n",
    "        res.append(guess)\n",
    "        \n",
    "    return res"
   ]
  },
  {
   "cell_type": "code",
   "execution_count": null,
   "metadata": {},
   "outputs": [],
   "source": [
    "def diffFunc3(x):\n",
    "    return exp(x)-1\n",
    "\n",
    "def newton(guess,func,diff,iterations=10):\n",
    "    # print(\"Iteration 0: %.05f\" % guess)\n",
    "    res = [guess]\n",
    "    for i in range(1,iterations):\n",
    "        guess -= func(guess)/diff(guess)\n",
    "        # print(\"Iteration %d: %.05f\" % (i,guess))\n",
    "        res.append(guess)\n",
    "        \n",
    "    return res\n",
    "\n",
    "ppeano = picardPeano(3,rec2Func3)\n",
    "newt = newton(3,func3,diffFunc3)\n",
    "\n",
    "print(\"Picard-Peano\\tNewton\")\n",
    "print(\"-----------------------\")\n",
    "for i,c in enumerate(ppeano):\n",
    "    print(\"   Iteration\",i)\n",
    "    print(\"%.05f        %.05f\" % (c, newt[i]))\n",
    "    "
   ]
  },
  {
   "cell_type": "markdown",
   "metadata": {},
   "source": [
    "Podemos verificar que o método de Newton convergeu logo na 4ª iteração enquanto que o método de Picard-Peano só converge a partir da 6ª iteração."
   ]
  },
  {
   "cell_type": "markdown",
   "metadata": {},
   "source": [
    "# 4. Sistemas de Eq. Diferenciais\n",
    "\n",
    "$\\frac{dC}{dt} = -e^{\\frac{-0.5}{T+273}} * C $  \n",
    "$\\frac{dT}{dt} = 30e^{\\frac{-0.5}{T+273}}*C -0.5*(T-20) $\n",
    "\n",
    "$ t = 0 $  \n",
    "$ C = 2.5 $  \n",
    "$ T = 25 $"
   ]
  },
  {
   "cell_type": "code",
   "execution_count": null,
   "metadata": {},
   "outputs": [],
   "source": [
    "from math import exp\n",
    "\n",
    "def dC(t,C,T):\n",
    "    return -exp(-0.5/(T+273))*C\n",
    "\n",
    "def dT(t,C,T):\n",
    "    return 30*exp(-0.5/(T+273))*C - 0.5*(T-20)\n",
    "\n",
    "def euler(deltaX, x, y, z, xf, dy, dz,info=True):\n",
    "    if info == True:    \n",
    "        print(\"Iteration 0\")\n",
    "        print(\"x: %.05f\" % x)\n",
    "        print(\"y: %.05f\" % y)\n",
    "        print(\"z: %.05f\" % z)\n",
    "    i = 1\n",
    "    while x < xf:\n",
    "        x += deltaX\n",
    "        deltaY = dy(x, y, z)\n",
    "        deltaZ = dz(x, y, z)\n",
    "        y += deltaY * deltaX\n",
    "        z += deltaZ * deltaX\n",
    "        \n",
    "        if info:\n",
    "            print(\"Iteration\", i)\n",
    "            print(\"x: %.05f\" % x)\n",
    "            print(\"y: %.05f\" % y)\n",
    "            print(\"z: %.05f\" % z)\n",
    "        i += 1\n",
    "        \n",
    "    return y, z\n",
    "\n",
    "def runga_kutta_4(deltaX, x, y, z, xf, dy, dz, info=True):\n",
    "        \n",
    "    if info:\n",
    "        print(\"Iteration 0\")\n",
    "        print(\"x: %.05f\" % x)\n",
    "        print(\"y: %.05f\" % y)\n",
    "        print(\"z: %.05f\" % z)\n",
    "    i = 1\n",
    "    while x < xf:\n",
    "        x += deltaX\n",
    "        dY1 = dy(x, y, z) * deltaX\n",
    "        dZ1 = dz(x, y, z) * deltaX\n",
    "        dY2 = deltaX * dy(x + deltaX / 2, y + dY1 / 2, z + dZ1 / 2)\n",
    "        dZ2 = deltaX * dz(x + deltaX / 2, y + dY1 / 2, z + dZ1 / 2)\n",
    "        dY3 = deltaX * dy(x + deltaX / 2, y + dY2 / 2, z + dZ2 / 2)\n",
    "        dZ3 = deltaX * dz(x + deltaX / 2, y + dY2 / 2, z + dZ2 / 2)\n",
    "        dY4 = deltaX * dy(x + deltaX, y + dY3, z + dZ3)\n",
    "        dZ4 = deltaX * dz(x + deltaX, y + dY3, z + dZ3)\n",
    "        y += (dY1 / 6 + dY2 / 3 + dY3 / 3 + dY4 / 6)\n",
    "        z += (dZ1 / 6 + dZ2 / 3 + dZ3 / 3 + dZ4 / 6)\n",
    "        \n",
    "        if info:\n",
    "            print(\"Iteration\", i)\n",
    "            print(\"x: %.05f\" % x)\n",
    "            print(\"y: %.05f\" % y)\n",
    "            print(\"z: %.05f\" % z)\n",
    "        i += 1\n",
    "    \n",
    "    return y, z\n",
    "\n",
    "\n",
    "def convergence_quotient(deltaX, x, y, z, xf, dy, dz, method,info=False):\n",
    "    print(method.__name__)\n",
    "    y0, z0 = method(deltaX, x, y, z, xf, dy, dz, info)\n",
    "    print(\"h: %.05f\" % deltaX)\n",
    "    print(\"y: %.05f\" % y0)\n",
    "    print(\"z: %.05f\" % z0)\n",
    "    y1, z1 = method(deltaX / 2, x, y, z, xf, dy, dz, info)\n",
    "    print(\"\\nh: %.05f\" % (deltaX / 2))\n",
    "    print(\"y: %.05f\" % y1)\n",
    "    print(\"z: %.05f\" % z1)\n",
    "    y2, z2 = method(deltaX / 4, x, y, z, xf, dy, dz, info)\n",
    "    print(\"\\nh: %.05f\" % (deltaX / 4))\n",
    "    print(\"y: %.05f\" % y2)\n",
    "    print(\"z: %.05f\" % z2)\n",
    "\n",
    "    quotient_y = (y1 - y0) / (y2 - y1)\n",
    "    quotient_z = (z1 - z0) / (z2 - z1)\n",
    "\n",
    "    error_y = (y2 - y1) / (round(quotient_y) - 1)\n",
    "    error_z = (z2 - z1) / (round(quotient_z) - 1)\n",
    "\n",
    "    print(\"\\nCQ(y): %.05f\" % quotient_y)\n",
    "    print(\"Error(y): %.05f\" % error_y)\n",
    "\n",
    "    print(\"CQ(z): %.05f\" % quotient_z)\n",
    "    print(\"Error(z): %.05f\" % error_z)\n",
    "\n",
    "    return quotient_y, quotient_z\n",
    "\n",
    "\n",
    "\n",
    "print(\"Primeira alinea\")\n",
    "euler(0.25,0,2.5,25,0.5,dC,dT)\n",
    "print(\"\\nSegunda Alinea\")\n",
    "runga_kutta_4(0.25,0,2.5,25,0.5,dC,dT)\n",
    "\n",
    "print(\"\\nTerceira Alinea\")\n",
    "convergence_quotient(0.25,0,2.5,25,0.5,dC,dT,euler)"
   ]
  }
 ],
 "metadata": {
  "kernelspec": {
   "display_name": "Python 3",
   "language": "python",
   "name": "python3"
  },
  "language_info": {
   "codemirror_mode": {
    "name": "ipython",
    "version": 3
   },
   "file_extension": ".py",
   "mimetype": "text/x-python",
   "name": "python",
   "nbconvert_exporter": "python",
   "pygments_lexer": "ipython3",
   "version": "3.7.4"
  }
 },
 "nbformat": 4,
 "nbformat_minor": 2
}
